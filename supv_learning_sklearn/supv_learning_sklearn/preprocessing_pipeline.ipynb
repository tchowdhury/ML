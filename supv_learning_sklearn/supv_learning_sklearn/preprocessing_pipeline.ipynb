{
 "cells": [
  {
   "cell_type": "code",
   "execution_count": 51,
   "id": "initial_id",
   "metadata": {
    "collapsed": true,
    "ExecuteTime": {
     "end_time": "2025-01-28T03:56:14.599281400Z",
     "start_time": "2025-01-28T03:56:13.859038700Z"
    }
   },
   "outputs": [],
   "source": [
    "import pandas as pd\n",
    "import numpy as np\n",
    "import matplotlib.pyplot as plt\n",
    "from sklearn.linear_model import Ridge, Lasso, LogisticRegression, LinearRegression\n",
    "from sklearn.model_selection import train_test_split, cross_val_score, KFold, GridSearchCV\n",
    "from sklearn.impute import SimpleImputer\n",
    "from sklearn.pipeline import Pipeline\n",
    "from sklearn.neighbors import KNeighborsClassifier\n",
    "from sklearn.metrics import classification_report, confusion_matrix,ConfusionMatrixDisplay, roc_curve,roc_auc_score,mean_squared_error\n",
    "from sklearn.preprocessing import StandardScaler\n",
    "from sklearn.tree import DecisionTreeClassifier"
   ]
  },
  {
   "cell_type": "markdown",
   "source": [
    "## Preprocessing Data"
   ],
   "metadata": {
    "collapsed": false
   },
   "id": "39512abae24992d9"
  },
  {
   "cell_type": "markdown",
   "source": [
    "### Creating dummy variables"
   ],
   "metadata": {
    "collapsed": false
   },
   "id": "e8ad6a098a416973"
  },
  {
   "cell_type": "code",
   "outputs": [
    {
     "name": "stdout",
     "output_type": "stream",
     "text": [
      "     Unnamed: 0  popularity  acousticness  danceability  duration_ms  energy  \\\n",
      "0         36506        60.0      0.896000         0.726     214547.0  0.1770   \n",
      "1         37591        63.0      0.003840         0.635     190448.0  0.9080   \n",
      "2         37658        59.0      0.000075         0.352     456320.0  0.9560   \n",
      "3         36060        54.0      0.945000         0.488     352280.0  0.3260   \n",
      "4         35710        55.0      0.245000         0.667     273693.0  0.6470   \n",
      "..          ...         ...           ...           ...          ...     ...   \n",
      "995       44501        57.0      0.972000         0.193     208040.0  0.0329   \n",
      "996       25114        56.0      0.005790         0.939     144453.0  0.3730   \n",
      "997       46896        54.0      0.016100         0.739     238339.0  0.5390   \n",
      "998       45135        62.0      0.326000         0.515     286707.0  0.5050   \n",
      "999       18960        42.0      0.029500         0.291     194679.0  0.5980   \n",
      "\n",
      "     instrumentalness  liveness  loudness  speechiness    tempo  valence  \\\n",
      "0            0.000002    0.1160   -14.824       0.0353   92.934   0.6180   \n",
      "1            0.083400    0.2390    -4.795       0.0563  110.012   0.6370   \n",
      "2            0.020300    0.1250    -3.634       0.1490  122.897   0.2280   \n",
      "3            0.015700    0.1190   -12.020       0.0328  106.063   0.3230   \n",
      "4            0.000297    0.0633    -7.787       0.0487  143.995   0.3000   \n",
      "..                ...       ...       ...          ...      ...      ...   \n",
      "995          0.929000    0.0978   -28.228       0.0460   82.165   0.0366   \n",
      "996          0.000000    0.2740    -7.779       0.2270  119.953   0.0602   \n",
      "997          0.000000    0.2350    -9.735       0.3370   85.082   0.8350   \n",
      "998          0.000000    0.1020    -5.606       0.0294  150.063   0.5380   \n",
      "999          0.002270    0.0738    -6.972       0.0394  146.245   0.1860   \n",
      "\n",
      "     genre  \n",
      "0        1  \n",
      "1        1  \n",
      "2        1  \n",
      "3        1  \n",
      "4        1  \n",
      "..     ...  \n",
      "995      0  \n",
      "996      0  \n",
      "997      0  \n",
      "998      0  \n",
      "999      0  \n",
      "\n",
      "[1000 rows x 13 columns]\n"
     ]
    }
   ],
   "source": [
    "# Import the data\n",
    "music_df = pd.read_csv('../data/music_clean.csv')\n",
    "\n",
    "# Create music_dummies\n",
    "#music_dummies = pd.get_dummies(music_df,drop_first=True)\n",
    "\n",
    "# Print the new DataFrame's shape\n",
    "#print(\"Shape of music_dummies: {}\".format(music_dummies.shape))\n",
    "\n"
   ],
   "metadata": {
    "collapsed": false,
    "ExecuteTime": {
     "end_time": "2025-01-27T23:02:02.382168800Z",
     "start_time": "2025-01-27T23:02:02.197621400Z"
    }
   },
   "id": "f2cb9490372eef95",
   "execution_count": 4
  },
  {
   "cell_type": "markdown",
   "source": [
    "### Regression with categorical features"
   ],
   "metadata": {
    "collapsed": false
   },
   "id": "5851c5e062222c5d"
  },
  {
   "cell_type": "code",
   "outputs": [
    {
     "name": "stdout",
     "output_type": "stream",
     "text": [
      "Average RMSE: 10.107171978159725\n",
      "Standard Deviation of the target array: 14.02156909907019\n"
     ]
    }
   ],
   "source": [
    "# Create kf by calling KFold(), setting the number of splits to six, shuffle to True, and setting a seed of 5\n",
    "kf =KFold(n_splits=3, shuffle=True, random_state=42)\n",
    "\n",
    "# Create X, containing all features in music_dummies, and y, consisting of the \"popularity\" column, respectively.\n",
    "X = music_df.drop('popularity', axis=1).values\n",
    "y = music_df['popularity'].values\n",
    "\n",
    "# Instantiate a ridge regression model, setting alpha equal to 0.2\n",
    "ridge = Ridge(alpha=0.2)\n",
    "\n",
    "# Perform cross-validation on X and y using the ridge model, setting cv equal to kf, and using negative mean squared error as the scoring metric.\n",
    "scores = cross_val_score(ridge, X, y, cv=kf, scoring=\"neg_mean_squared_error\")\n",
    "\n",
    "# Print the RMSE values by converting negative scores to positive and taking the square root\n",
    "rmse = np.sqrt(-scores)\n",
    "print(\"Average RMSE: {}\".format(np.mean(rmse)))\n",
    "print(\"Standard Deviation of the target array: {}\".format(np.std(y)))"
   ],
   "metadata": {
    "collapsed": false,
    "ExecuteTime": {
     "end_time": "2025-01-27T23:18:41.145761400Z",
     "start_time": "2025-01-27T23:18:41.002724900Z"
    }
   },
   "id": "5b293dc95b7dfed5",
   "execution_count": 10
  },
  {
   "cell_type": "markdown",
   "source": [
    "## Handling Missing Data"
   ],
   "metadata": {
    "collapsed": false
   },
   "id": "5cbd381ef28377b8"
  },
  {
   "cell_type": "markdown",
   "source": [
    "### Dropping missing data"
   ],
   "metadata": {
    "collapsed": false
   },
   "id": "5d1994dda0302c8d"
  },
  {
   "cell_type": "code",
   "outputs": [
    {
     "name": "stdout",
     "output_type": "stream",
     "text": [
      "Unnamed: 0          0\n",
      "popularity          0\n",
      "acousticness        0\n",
      "danceability        0\n",
      "duration_ms         0\n",
      "energy              0\n",
      "instrumentalness    0\n",
      "liveness            0\n",
      "loudness            0\n",
      "speechiness         0\n",
      "tempo               0\n",
      "valence             0\n",
      "genre               0\n",
      "dtype: int64\n"
     ]
    }
   ],
   "source": [
    "# Print the number of missing values for each column in the music_df dataset, sorted in ascending order.\n",
    "print(music_df.isna().sum().sort_values())\n",
    "\n",
    "# Remove values for all columns with 50 or fewer missing values.\n",
    "# Remove values where less than 5% are missing\n",
    "music_df = music_df.dropna(subset=[\"genre\", \"popularity\", \"loudness\", \"liveness\", \"tempo\"])\n",
    "\n",
    "# Convert music_df[\"genre\"] to values of 1 if the row contains \"Rock\", otherwise change the value to 0.\n",
    "music_df[\"genre\"] = np.where(music_df[\"genre\"] == \"Rock\", 1, 0)\n",
    "\n",
    "print(music_df.isna().sum().sort_values())\n",
    "print(\"Shape of the `music_df`: {}\".format(music_df.shape))"
   ],
   "metadata": {
    "collapsed": false,
    "ExecuteTime": {
     "end_time": "2025-01-27T23:35:43.513516800Z",
     "start_time": "2025-01-27T23:35:43.476019800Z"
    }
   },
   "id": "52278b0d32d4d6a7",
   "execution_count": 11
  },
  {
   "cell_type": "markdown",
   "source": [
    "### Pipeline for song genre prediction: I"
   ],
   "metadata": {
    "collapsed": false
   },
   "id": "c682cdc4d4822bae"
  },
  {
   "cell_type": "code",
   "outputs": [],
   "source": [
    "X_train, X_test, y_train, y_test = train_test_split(X, y, test_size=0.3, random_state=42)\n",
    "\n",
    "# Instantiate an imputer\n",
    "imputer = SimpleImputer()\n",
    "\n",
    "# Instantiate a KNN classifier with three neighbors.\n",
    "knn = KNeighborsClassifier(n_neighbors=3)\n",
    "\n",
    "# Create steps, a list of tuples containing the imputer variable you created, called \"imputer\", followed by the knn model you created, called \"knn\"\n",
    "steps = [(\"imputer\", imputer), \n",
    "         (\"knn\", knn)]"
   ],
   "metadata": {
    "collapsed": false,
    "ExecuteTime": {
     "end_time": "2025-01-28T01:21:55.499579800Z",
     "start_time": "2025-01-28T01:21:55.466968Z"
    }
   },
   "id": "f4a17d93c9e41f34",
   "execution_count": 18
  },
  {
   "cell_type": "markdown",
   "source": [
    "### Pipeline for song genre prediction: II"
   ],
   "metadata": {
    "collapsed": false
   },
   "id": "49cd274ad9fba524"
  },
  {
   "cell_type": "code",
   "outputs": [
    {
     "name": "stdout",
     "output_type": "stream",
     "text": [
      "[[0 0 0 ... 0 0 0]\n",
      " [0 0 0 ... 0 0 0]\n",
      " [0 0 0 ... 0 0 0]\n",
      " ...\n",
      " [0 0 0 ... 0 0 0]\n",
      " [0 0 0 ... 0 0 0]\n",
      " [0 0 0 ... 0 0 0]]\n"
     ]
    }
   ],
   "source": [
    "\n",
    "# Create the pipeline\n",
    "pipeline = Pipeline(steps)\n",
    "\n",
    "# Fit the pipeline to the training data.\n",
    "pipeline.fit(X_train, y_train)\n",
    "\n",
    "# Make predictions on the test set.\n",
    "y_pred = pipeline.predict(X_test)\n",
    "\n",
    "# Calculate and print the confusion matrix.\n",
    "print(confusion_matrix(y_test,y_pred))"
   ],
   "metadata": {
    "collapsed": false,
    "ExecuteTime": {
     "end_time": "2025-01-28T01:24:00.322061400Z",
     "start_time": "2025-01-28T01:24:00.262454200Z"
    }
   },
   "id": "55b87a4c089eb5c0",
   "execution_count": 22
  },
  {
   "cell_type": "markdown",
   "source": [
    "## Cantering and Scaling"
   ],
   "metadata": {
    "collapsed": false
   },
   "id": "ebb6cd9f2982dd02"
  },
  {
   "cell_type": "markdown",
   "source": [
    "### Centering and scaling for regression"
   ],
   "metadata": {
    "collapsed": false
   },
   "id": "57ca23ce7a5d9801"
  },
  {
   "cell_type": "code",
   "outputs": [
    {
     "name": "stdout",
     "output_type": "stream",
     "text": [
      "0.7185052514704713\n"
     ]
    }
   ],
   "source": [
    "# Create X, containing all features in music_dummies, and y, consisting of the \"popularity\" column, respectively.\n",
    "X = music_df.drop('loudness', axis=1).values\n",
    "y = music_df['loudness'].values\n",
    "\n",
    "X_train, X_test, y_train, y_test = train_test_split(X, y, test_size=0.3, random_state=42)\n",
    "\n",
    "# Create the steps for the pipeline object, a StandardScaler object called \"scaler\", and a lasso model called \"lasso\" with alpha set to 0.5.\n",
    "steps = [(\"scaler\", StandardScaler()),\n",
    "         (\"lasso\", Lasso(alpha=0.5))]\n",
    "\n",
    "# Instantiate a pipeline with steps to scale and build a lasso regression model.\n",
    "pipeline = Pipeline(steps)\n",
    "pipeline.fit(X_train, y_train)\n",
    "\n",
    "# Calculate the R-squared value on the test data.\n",
    "print(pipeline.score(X_test, y_test))"
   ],
   "metadata": {
    "collapsed": false,
    "ExecuteTime": {
     "end_time": "2025-01-28T02:01:57.831352300Z",
     "start_time": "2025-01-28T02:01:57.700901700Z"
    }
   },
   "id": "d28fe2541e96b2fe",
   "execution_count": 27
  },
  {
   "cell_type": "markdown",
   "source": [
    "### Centering and scaling for classification"
   ],
   "metadata": {
    "collapsed": false
   },
   "id": "de3a9558842d8e49"
  },
  {
   "cell_type": "code",
   "outputs": [
    {
     "name": "stdout",
     "output_type": "stream",
     "text": [
      "0.9275 \n",
      " {'logreg__C': np.float64(0.5267894736842105)}\n"
     ]
    }
   ],
   "source": [
    "# Create X, containing all features in music_dummies, and y, consisting of the \"popularity\" column, respectively.\n",
    "X = music_df.drop('genre', axis=1).values\n",
    "y = music_df['genre'].values\n",
    "\n",
    "X_train, X_test, y_train, y_test = train_test_split(X, y, test_size=0.2, random_state=21)\n",
    "\n",
    "# Build the steps for the pipeline: a StandardScaler() object named \"scaler\", and a logistic regression model named \"logreg\".\n",
    "steps = [(\"scaler\", StandardScaler()),(\"logreg\", LogisticRegression())]\n",
    "\n",
    "pipeline = Pipeline(steps)\n",
    "\n",
    "# Create the parameters, searching 20 equally spaced float values ranging from 0.001 to 1.0 for the logistic regression model's C hyperparameter within the pipeline.\n",
    "parameters = {\"logreg__C\": np.linspace(0.001, 1.0, 20)}\n",
    "\n",
    "# Instantiate the grid search object.\n",
    "cv = GridSearchCV(pipeline, param_grid=parameters)\n",
    "\n",
    "# Fit the grid search object to the training data.\n",
    "cv.fit(X_train,y_train)\n",
    "print(cv.best_score_, \"\\n\", cv.best_params_)"
   ],
   "metadata": {
    "collapsed": false,
    "ExecuteTime": {
     "end_time": "2025-01-28T02:25:52.928900500Z",
     "start_time": "2025-01-28T02:25:50.938165500Z"
    }
   },
   "id": "b26e952ffcc2e695",
   "execution_count": 33
  },
  {
   "cell_type": "markdown",
   "source": [
    "## Evaluating Multiple Model"
   ],
   "metadata": {
    "collapsed": false
   },
   "id": "27fa68d4db13cdc2"
  },
  {
   "cell_type": "markdown",
   "source": [
    "### Visualizing regression model performance"
   ],
   "metadata": {
    "collapsed": false
   },
   "id": "700221b28485ff56"
  },
  {
   "cell_type": "code",
   "outputs": [
    {
     "data": {
      "text/plain": "<Figure size 1000x600 with 1 Axes>",
      "image/png": "[encoded data removed]"
     },
     "metadata": {},
     "output_type": "display_data"
    }
   ],
   "source": [
    "# Create X, containing all features in music_dummies, and y, consisting of the \"energy\" column, respectively.\n",
    "X = music_df.drop('energy', axis=1).values\n",
    "y = music_df['energy'].values\n",
    "\n",
    "\n",
    "X_train, X_test, y_train, y_test = train_test_split(X, y, test_size=0.2, random_state=42)\n",
    "\n",
    "scaler = StandardScaler()\n",
    "X_train_scaled = scaler.fit_transform(X_train)\n",
    "X_test_scaled = scaler.transform(X_test)\n",
    "\n",
    "\n",
    "# Write a for loop using model as the iterator, and model.values() as the iterable.\n",
    "models = {\"Linear Regression\": LinearRegression(), \"Ridge\": Ridge(alpha=0.1), \"Lasso\": Lasso(alpha=0.1)}\n",
    "results = []\n",
    "\n",
    "# Loop through the models' values\n",
    "for model in models.values():\n",
    "    kf = KFold(n_splits=6, random_state=42, shuffle=True)\n",
    "    \n",
    "    # Perform cross-validation\n",
    "    cv_scores = cross_val_score(model, X_train, y_train, cv=kf)\n",
    "    \n",
    "    # Append the results\n",
    "    results.append(cv_scores)\n",
    "\n",
    "# Create a box plot of the results\n",
    "fig, ax = plt.subplots(figsize=(10, 6))\n",
    "plt.boxplot(results, tick_labels=models.keys())\n",
    "plt.show()\n",
    "    "
   ],
   "metadata": {
    "collapsed": false,
    "ExecuteTime": {
     "end_time": "2025-01-28T03:42:27.617818300Z",
     "start_time": "2025-01-28T03:42:27.432978100Z"
    }
   },
   "id": "626d43fb2f6da92e",
   "execution_count": 43
  },
  {
   "cell_type": "markdown",
   "source": [
    "### Predicting on the test set"
   ],
   "metadata": {
    "collapsed": false
   },
   "id": "ca75653f5a5d15b7"
  },
  {
   "cell_type": "code",
   "outputs": [
    {
     "name": "stdout",
     "output_type": "stream",
     "text": [
      "Linear Regression Test Set RMSE: 0.012399207445322757\n",
      "Ridge Test Set RMSE: 0.012399749186727411\n",
      "Lasso Test Set RMSE: 0.03003163750054614\n"
     ]
    }
   ],
   "source": [
    "# Fit the model to the scaled training features and the training labels.\n",
    "for name, model in models.items():\n",
    "    model.fit(X_train_scaled,y_train)\n",
    "    \n",
    "    # Make predictions on the test set\n",
    "    y_pred = model.predict(X_test_scaled)\n",
    "    \n",
    "    # Calculate the test_rmse\n",
    "    test_rmse = mean_squared_error(y_test, y_pred)\n",
    "    print(\"{} Test Set RMSE: {}\".format(name, test_rmse))"
   ],
   "metadata": {
    "collapsed": false,
    "ExecuteTime": {
     "end_time": "2025-01-28T03:53:16.132574Z",
     "start_time": "2025-01-28T03:53:15.986634500Z"
    }
   },
   "id": "f21fe94fcb0120ed",
   "execution_count": 50
  },
  {
   "cell_type": "markdown",
   "source": [
    "### Visualizing classification model performance"
   ],
   "metadata": {
    "collapsed": false
   },
   "id": "7e02960dc165fb1f"
  },
  {
   "cell_type": "code",
   "outputs": [
    {
     "data": {
      "text/plain": "<Figure size 1000x600 with 1 Axes>",
      "image/png": "[encoded data removed]"
     },
     "metadata": {},
     "output_type": "display_data"
    }
   ],
   "source": [
    "# Import the data\n",
    "music_df = pd.read_csv('../data/music_clean.csv')\n",
    "\n",
    "med_popular = music_df[['popularity']].median()\n",
    "\n",
    "# Convert music_df[\"popularity\"] to values of 1 if the value greater than it's median value else 0\n",
    "music_df[\"popularity\"] = np.where(music_df[\"popularity\"] > med_popular.values[0],1,0)\n",
    "\n",
    "# Create X, containing all features in music_dummies, and y, consisting of the \"popularity\" column, respectively.\n",
    "X = music_df.drop('popularity', axis=1).values\n",
    "y = music_df['popularity'].values\n",
    "\n",
    "X_train, X_test, y_train, y_test = train_test_split(X, y, random_state=42)\n",
    "scaler = StandardScaler()\n",
    "X_train_scaled = scaler.fit_transform(X_train)\n",
    "X_test_scaled = scaler.transform(X_test)\n",
    "\n",
    "# Create a dictionary of \"Logistic Regression\", \"KNN\", and \"Decision Tree Classifier\", setting the dictionary's values to a call of each model\n",
    "models = {\"Logistic Regression\": LogisticRegression(), \"KNN\": KNeighborsClassifier(), \"Decision Tree Classifier\": DecisionTreeClassifier()}\n",
    "results = []\n",
    "\n",
    "# Loop through the values in models\n",
    "\n",
    "# Loop through the models' values\n",
    "for model in models.values():\n",
    "  \n",
    "  # Instantiate a KFold object\n",
    "  kf = KFold(n_splits=6, random_state=12, shuffle=True)\n",
    "  \n",
    "  # Perform cross-validation\n",
    "  cv_results = cross_val_score(model, X_train_scaled, y_train, cv=kf)\n",
    "  results.append(cv_results)\n",
    "\n",
    "fig, ax = plt.subplots(figsize=(10, 6))\n",
    "plt.boxplot(results, tick_labels=models.keys())\n",
    "plt.show()"
   ],
   "metadata": {
    "collapsed": false,
    "ExecuteTime": {
     "end_time": "2025-01-28T04:51:30.432384700Z",
     "start_time": "2025-01-28T04:51:30.009694200Z"
    }
   },
   "id": "d4fbd1aefaea7e33",
   "execution_count": 100
  },
  {
   "cell_type": "markdown",
   "source": [
    "### Pipeline for predicting song popularity"
   ],
   "metadata": {
    "collapsed": false
   },
   "id": "f7e5af538ae5b0ce"
  },
  {
   "cell_type": "code",
   "outputs": [
    {
     "name": "stdout",
     "output_type": "stream",
     "text": [
      "Tuned Logistic Regression Parameters: 0.788, Accuracy: {'logreg__C': np.float64(0.334), 'logreg__solver': 'newton-cg'}\n"
     ]
    }
   ],
   "source": [
    "# Create the steps for the pipeline by calling a simple imputer, a standard scaler, and a logistic regression model.\n",
    "# Create steps\n",
    "steps = [(\"imp_mean\", SimpleImputer()), \n",
    "         (\"scaler\", StandardScaler()), \n",
    "         (\"logreg\", LogisticRegression())]\n",
    "\n",
    "# Create a pipeline object, and pass the steps variable.\n",
    "pipeline = Pipeline(steps)\n",
    "\n",
    "params = {\"logreg__solver\": [\"newton-cg\", \"saga\", \"lbfgs\"],\n",
    "         \"logreg__C\": np.linspace(0.001, 1.0, 10)}\n",
    "\n",
    "# Instantiate a grid search object to perform cross-validation using the pipeline and the parameters.\n",
    "tuning = GridSearchCV(pipeline, param_grid=params)\n",
    "tuning.fit(X_train, y_train)\n",
    "y_pred = tuning.predict(X_test)\n",
    "\n",
    "# Print the best parameters and compute and print the test set accuracy score for the grid search object.\n",
    "# Compute and print performance\n",
    "print(\"Tuned Logistic Regression Parameters: {}, Accuracy: {}\".format(tuning.best_score_, tuning.best_params_))"
   ],
   "metadata": {
    "collapsed": false,
    "ExecuteTime": {
     "end_time": "2025-01-28T05:01:22.116138900Z",
     "start_time": "2025-01-28T05:01:20.680722400Z"
    }
   },
   "id": "5e8612d3f1f7edc8",
   "execution_count": 103
  }
 ],
 "metadata": {
  "kernelspec": {
   "display_name": "Python 3",
   "language": "python",
   "name": "python3"
  },
  "language_info": {
   "codemirror_mode": {
    "name": "ipython",
    "version": 2
   },
   "file_extension": ".py",
   "mimetype": "text/x-python",
   "name": "python",
   "nbconvert_exporter": "python",
   "pygments_lexer": "ipython2",
   "version": "2.7.6"
  }
 },
 "nbformat": 4,
 "nbformat_minor": 5
}
