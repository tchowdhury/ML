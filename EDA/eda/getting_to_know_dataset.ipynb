{
 "cells": [
  {
   "cell_type": "code",
   "execution_count": 7,
   "id": "initial_id",
   "metadata": {
    "collapsed": true,
    "ExecuteTime": {
     "end_time": "2025-02-25T06:32:19.572573200Z",
     "start_time": "2025-02-25T06:31:57.625101100Z"
    }
   },
   "outputs": [],
   "source": [
    "import pandas as pd\n",
    "import seaborn as sns\n",
    "from matplotlib import pyplot as plt"
   ]
  },
  {
   "cell_type": "markdown",
   "source": [
    "## Initial Exploration"
   ],
   "metadata": {
    "collapsed": false
   },
   "id": "80ef135b65af22db"
  },
  {
   "cell_type": "markdown",
   "source": [
    "### Functions for initial exploration"
   ],
   "metadata": {
    "collapsed": false
   },
   "id": "88ec1168d54924e8"
  },
  {
   "cell_type": "markdown",
   "source": [
    "You are researching unemployment rates worldwide and have been given a new dataset to work with. The data has been saved and loaded for you as a pandas DataFrame called unemployment. You've never seen the data before, so your first task is to use a few pandas functions to learn about this new data."
   ],
   "metadata": {
    "collapsed": false
   },
   "id": "9ab6991d1c1ce960"
  },
  {
   "cell_type": "code",
   "outputs": [
    {
     "name": "stdout",
     "output_type": "stream",
     "text": [
      "<class 'pandas.core.frame.DataFrame'>\n",
      "RangeIndex: 182 entries, 0 to 181\n",
      "Data columns (total 15 columns):\n",
      " #   Column        Non-Null Count  Dtype  \n",
      "---  ------        --------------  -----  \n",
      " 0   country_code  182 non-null    object \n",
      " 1   country_name  182 non-null    object \n",
      " 2   continent     177 non-null    object \n",
      " 3   2010          182 non-null    float64\n",
      " 4   2011          182 non-null    float64\n",
      " 5   2012          182 non-null    float64\n",
      " 6   2013          182 non-null    float64\n",
      " 7   2014          182 non-null    float64\n",
      " 8   2015          182 non-null    float64\n",
      " 9   2016          182 non-null    float64\n",
      " 10  2017          182 non-null    float64\n",
      " 11  2018          182 non-null    float64\n",
      " 12  2019          182 non-null    float64\n",
      " 13  2020          182 non-null    float64\n",
      " 14  2021          182 non-null    float64\n",
      "dtypes: float64(12), object(3)\n",
      "memory usage: 21.5+ KB\n",
      "             2010        2011        2012        2013        2014        2015  \\\n",
      "count  182.000000  182.000000  182.000000  182.000000  182.000000  182.000000   \n",
      "mean     8.409286    8.315440    8.317967    8.344780    8.179670    8.058901   \n",
      "std      6.248887    6.266795    6.367270    6.416041    6.284241    6.161170   \n",
      "min      0.450000    0.320000    0.480000    0.250000    0.200000    0.170000   \n",
      "25%      4.015000    3.775000    3.742500    3.692500    3.625000    3.662500   \n",
      "50%      6.965000    6.805000    6.690000    6.395000    6.450000    6.170000   \n",
      "75%     10.957500   11.045000   11.285000   11.310000   10.695000   10.215000   \n",
      "max     32.020000   31.380000   31.020000   29.000000   28.030000   27.690000   \n",
      "\n",
      "             2016        2017        2018        2019        2020        2021  \n",
      "count  182.000000  182.000000  182.000000  182.000000  182.000000  182.000000  \n",
      "mean     7.925879    7.668626    7.426429    7.243736    8.420934    8.390879  \n",
      "std      6.045439    5.902152    5.818915    5.696573    6.040915    6.067192  \n",
      "min      0.150000    0.140000    0.110000    0.100000    0.210000    0.260000  \n",
      "25%      3.800000    3.690000    3.625000    3.487500    4.285000    4.335000  \n",
      "50%      5.925000    5.650000    5.375000    5.240000    6.695000    6.425000  \n",
      "75%     10.245000   10.315000    9.257500    9.445000   11.155000   10.840000  \n",
      "max     26.540000   27.040000   26.910000   28.470000   29.220000   33.560000  \n"
     ]
    }
   ],
   "source": [
    "unemployment = pd.read_csv('../data/clean_unemployment.csv')\n",
    "\n",
    "# Use a pandas function to print the first five rows of the unemployment DataFrame.\n",
    "unemployment.head()\n",
    "\n",
    "# # Print a summary of non-missing values and data types in the unemployment DataFrame\n",
    "unemployment.info()\n",
    "\n",
    "# Print the summary statistics (count, mean, standard deviation, min, max, and quartile values) of each numerical column in unemployment\n",
    "print(unemployment.describe())"
   ],
   "metadata": {
    "collapsed": false,
    "ExecuteTime": {
     "end_time": "2025-02-25T06:27:17.033647300Z",
     "start_time": "2025-02-25T06:27:16.842961900Z"
    }
   },
   "id": "696389af84a22315",
   "execution_count": 5
  },
  {
   "cell_type": "markdown",
   "source": [
    "### Counting categorical values"
   ],
   "metadata": {
    "collapsed": false
   },
   "id": "197cd34da921e42f"
  },
  {
   "cell_type": "markdown",
   "source": [
    "Recall from the previous exercise that the unemployment DataFrame contains 182 rows of country data including country_code, country_name, continent, and unemployment percentages from 2010 through 2021.\n",
    "\n",
    "You'd now like to explore the categorical data contained in unemployment to understand the data that it contains related to each continent."
   ],
   "metadata": {
    "collapsed": false
   },
   "id": "1853454a6e4d341b"
  },
  {
   "cell_type": "code",
   "outputs": [
    {
     "data": {
      "text/plain": "continent\nAfrica           53\nAsia             47\nEurope           39\nNorth America    18\nSouth America    12\nOceania           8\nName: count, dtype: int64"
     },
     "execution_count": 6,
     "metadata": {},
     "output_type": "execute_result"
    }
   ],
   "source": [
    "# Use a method to count the values associated with each continent in the unemployment DataFrame.\n",
    "unemployment['continent'].value_counts()"
   ],
   "metadata": {
    "collapsed": false,
    "ExecuteTime": {
     "end_time": "2025-02-25T06:29:34.529300100Z",
     "start_time": "2025-02-25T06:29:34.451870700Z"
    }
   },
   "id": "31e51b1088593ac4",
   "execution_count": 6
  },
  {
   "cell_type": "markdown",
   "source": [
    "### Global unemployment in 2021"
   ],
   "metadata": {
    "collapsed": false
   },
   "id": "d6c95bfe3508a9f"
  },
  {
   "cell_type": "markdown",
   "source": [
    "It's time to explore some of the numerical data in unemployment! What was typical unemployment in a given year? What was the minimum and maximum unemployment rate, and what did the distribution of the unemployment rates look like across the world? A histogram is a great way to get a sense of the answers to these questions.\n",
    "\n",
    "Your task in this exercise is to create a histogram showing the distribution of global unemployment rates in 2021."
   ],
   "metadata": {
    "collapsed": false
   },
   "id": "751c13cd4d024436"
  },
  {
   "cell_type": "code",
   "outputs": [
    {
     "data": {
      "text/plain": "<Figure size 640x480 with 1 Axes>",
      "image/png": "[encoded data removed]"
     },
     "metadata": {},
     "output_type": "display_data"
    }
   ],
   "source": [
    "# Create a histogram of the distribution of 2021 unemployment percentages across all countries in unemployment; show a full percentage point in each bin.\n",
    "sns.histplot(data=unemployment,x='2021', binwidth=1)\n",
    "plt.show()"
   ],
   "metadata": {
    "collapsed": false,
    "ExecuteTime": {
     "end_time": "2025-02-25T06:36:02.303977600Z",
     "start_time": "2025-02-25T06:36:01.864274900Z"
    }
   },
   "id": "f807b24040fc1af2",
   "execution_count": 11
  },
  {
   "cell_type": "markdown",
   "source": [
    "## Data Validation"
   ],
   "metadata": {
    "collapsed": false
   },
   "id": "e42860c4006d00d7"
  },
  {
   "cell_type": "markdown",
   "source": [
    "### Detecting Data Types"
   ],
   "metadata": {
    "collapsed": false
   },
   "id": "e372fe1f83a538a2"
  },
  {
   "cell_type": "markdown",
   "source": [
    "Change the data type of column '2019' to string! This data type will stop you from performing effective exploration and analysis, so your task is to identify which column has the wrong data type and then fix it."
   ],
   "metadata": {
    "collapsed": false
   },
   "id": "e5696aa76bbc51a1"
  },
  {
   "cell_type": "code",
   "outputs": [
    {
     "name": "stdout",
     "output_type": "stream",
     "text": [
      "country_code     object\n",
      "country_name     object\n",
      "continent        object\n",
      "2010            float64\n",
      "2011            float64\n",
      "2012            float64\n",
      "2013            float64\n",
      "2014            float64\n",
      "2015            float64\n",
      "2016            float64\n",
      "2017            float64\n",
      "2018            float64\n",
      "2019             object\n",
      "2020            float64\n",
      "2021            float64\n",
      "dtype: object\n",
      "country_code     object\n",
      "country_name     object\n",
      "continent        object\n",
      "2010            float64\n",
      "2011            float64\n",
      "2012            float64\n",
      "2013            float64\n",
      "2014            float64\n",
      "2015            float64\n",
      "2016            float64\n",
      "2017            float64\n",
      "2018            float64\n",
      "2019            float64\n",
      "2020            float64\n",
      "2021            float64\n",
      "dtype: object\n"
     ]
    }
   ],
   "source": [
    "# Update the data type of the 2019 column to string\n",
    "unemployment[\"2019\"] = unemployment[\"2019\"].astype(str)\n",
    "# Print the dtypes to check your work\n",
    "print(unemployment.dtypes)\n",
    "# Update the data type of the 2019 column back to float\n",
    "unemployment[\"2019\"] = unemployment[\"2019\"].astype(float)\n",
    "# Print the dtypes to check your work\n",
    "print(unemployment.dtypes)"
   ],
   "metadata": {
    "collapsed": false,
    "ExecuteTime": {
     "end_time": "2025-02-26T03:38:49.541765Z",
     "start_time": "2025-02-26T03:38:49.536609100Z"
    }
   },
   "id": "17e1404c916ea9d3",
   "execution_count": 12
  },
  {
   "cell_type": "markdown",
   "source": [
    "### Validating continents"
   ],
   "metadata": {
    "collapsed": false
   },
   "id": "bb8c2bec76a9405"
  },
  {
   "cell_type": "markdown",
   "source": [
    "Your colleague has informed you that the data on unemployment from countries in Oceania is not reliable, and you'd like to identify and exclude these countries from your unemployment data. The .isin() function can help with that!\n",
    "\n",
    "Your task is to use .isin() to identify countries that are not in Oceania. These countries should return True while countries in Oceania should return False. This will set you up to use the results of .isin() to quickly filter out Oceania countries using Boolean indexing."
   ],
   "metadata": {
    "collapsed": false
   },
   "id": "968b256b8db4a5d5"
  },
  {
   "cell_type": "code",
   "outputs": [
    {
     "name": "stdout",
     "output_type": "stream",
     "text": [
      "    country_code          country_name      continent   2010   2011   2012  \\\n",
      "0            AFG           Afghanistan           Asia  11.35  11.05  11.34   \n",
      "1            AGO                Angola         Africa   9.43   7.36   7.35   \n",
      "2            ALB               Albania         Europe  14.09  13.48  13.38   \n",
      "3            ARE  United Arab Emirates           Asia   2.48   2.30   2.18   \n",
      "4            ARG             Argentina  South America   7.71   7.18   7.22   \n",
      "..           ...                   ...            ...    ...    ...    ...   \n",
      "175          VNM               Vietnam           Asia   1.11   1.00   1.03   \n",
      "178          YEM           Yemen, Rep.           Asia  12.83  13.23  13.17   \n",
      "179          ZAF          South Africa         Africa  24.68  24.64  24.73   \n",
      "180          ZMB                Zambia         Africa  13.19  10.55   7.85   \n",
      "181          ZWE              Zimbabwe         Africa   5.21   5.37   5.15   \n",
      "\n",
      "      2013   2014   2015   2016   2017   2018   2019   2020   2021  \n",
      "0    11.19  11.14  11.13  11.16  11.18  11.15  11.22  11.71  13.28  \n",
      "1     7.37   7.37   7.39   7.41   7.41   7.42   7.42   8.33   8.53  \n",
      "2    15.87  18.05  17.19  15.42  13.62  12.30  11.47  13.33  11.82  \n",
      "3     2.04   1.91   1.77   1.64   2.46   2.35   2.23   3.19   3.36  \n",
      "4     7.10   7.27   7.52   8.11   8.35   9.22   9.84  11.46  10.90  \n",
      "..     ...    ...    ...    ...    ...    ...    ...    ...    ...  \n",
      "175   1.32   1.26   1.85   1.85   1.87   1.16   2.04   2.39   2.17  \n",
      "178  13.27  13.47  13.77  13.43  13.30  13.15  13.06  13.39  13.57  \n",
      "179  24.56  24.89  25.15  26.54  27.04  26.91  28.47  29.22  33.56  \n",
      "180   8.61   9.36  10.13  10.87  11.63  12.01  12.52  12.85  13.03  \n",
      "181   4.98   4.77   4.78   4.79   4.78   4.80   4.83   5.35   5.17  \n",
      "\n",
      "[174 rows x 15 columns]\n"
     ]
    }
   ],
   "source": [
    "# Define a Series describing whether each continent is outside of Oceania\n",
    "not_oceania = ~unemployment[\"continent\"].isin([\"Oceania\"])\n",
    "\n",
    "# Print unemployment without records related to countries in Oceania\n",
    "print(unemployment[not_oceania])"
   ],
   "metadata": {
    "collapsed": false,
    "ExecuteTime": {
     "end_time": "2025-02-26T03:42:52.376231600Z",
     "start_time": "2025-02-26T03:42:52.329157100Z"
    }
   },
   "id": "49c43b912223b58b",
   "execution_count": 13
  },
  {
   "cell_type": "markdown",
   "source": [],
   "metadata": {
    "collapsed": false
   },
   "id": "43d9333f59d0854c"
  },
  {
   "cell_type": "markdown",
   "source": [
    "### Validating range"
   ],
   "metadata": {
    "collapsed": false
   },
   "id": "43a76bb309a346e1"
  },
  {
   "cell_type": "markdown",
   "source": [
    "Now it's time to validate our numerical data. We saw in the previous lesson using .describe() that the largest unemployment rate during 2021 was nearly 34 percent, while the lowest was just above zero.\n",
    "\n",
    "Your task in this exercise is to get much more detailed information about the range of unemployment data using Seaborn's boxplot, and you'll also visualize the range of unemployment rates in each continent to understand geographical range differences."
   ],
   "metadata": {
    "collapsed": false
   },
   "id": "b3db3b62aebfd685"
  },
  {
   "cell_type": "code",
   "outputs": [
    {
     "name": "stdout",
     "output_type": "stream",
     "text": [
      "0.26 33.56\n"
     ]
    },
    {
     "data": {
      "text/plain": "<Figure size 1200x800 with 1 Axes>",
      "image/png": "[encoded data removed]"
     },
     "metadata": {},
     "output_type": "display_data"
    }
   ],
   "source": [
    "# Print the minimum and maximum unemployment rates during 2021\n",
    "print(unemployment['2021'].min(), unemployment['2021'].max())\n",
    "\n",
    "# Create a boxplot of 2021 unemployment rates, broken down by continent\n",
    "plt.figure(figsize=(12, 8))\n",
    "sns.boxplot(data=unemployment, x='2021', y='continent',hue='continent', palette='Spectral')\n",
    "plt.show()"
   ],
   "metadata": {
    "collapsed": false,
    "ExecuteTime": {
     "end_time": "2025-02-26T23:08:28.729406200Z",
     "start_time": "2025-02-26T23:08:27.969471700Z"
    }
   },
   "id": "8818edaf9c889efd",
   "execution_count": 31
  },
  {
   "cell_type": "markdown",
   "source": [
    "## Data Summarization"
   ],
   "metadata": {
    "collapsed": false
   },
   "id": "bc8c122c6e933444"
  },
  {
   "cell_type": "markdown",
   "source": [
    "### Summaries with .groupby() and .agg()"
   ],
   "metadata": {
    "collapsed": false
   },
   "id": "f0a4037564a2bd10"
  },
  {
   "cell_type": "markdown",
   "source": [
    "In this exercise, you'll explore the means and standard deviations of the yearly unemployment data. First, you'll find means and standard deviations regardless of the continent to observe worldwide unemployment trends. Then, you'll check unemployment trends broken down by continent."
   ],
   "metadata": {
    "collapsed": false
   },
   "id": "6338e025133b38fa"
  },
  {
   "cell_type": "code",
   "outputs": [
    {
     "name": "stdout",
     "output_type": "stream",
     "text": [
      "          2010      2011      2012      2013      2014      2015      2016  \\\n",
      "mean  8.409286  8.315440  8.317967  8.344780  8.179670  8.058901  7.925879   \n",
      "std   6.248887  6.266795  6.367270  6.416041  6.284241  6.161170  6.045439   \n",
      "\n",
      "          2017      2018      2019      2020      2021  \n",
      "mean  7.668626  7.426429  7.243736  8.420934  8.390879  \n",
      "std   5.902152  5.818915  5.696573  6.040915  6.067192  \n",
      "                    2010                 2011                 2012            \\\n",
      "                    mean       std       mean       std       mean       std   \n",
      "continent                                                                      \n",
      "Africa          9.343585  7.411259   9.369245  7.401556   9.240755  7.264542   \n",
      "Asia            6.240638  5.146175   5.942128  4.779575   5.835319  4.756904   \n",
      "Europe         11.008205  6.392063  10.947949  6.539538  11.325641  7.003527   \n",
      "North America   8.663333  5.115805   8.563333  5.377041   8.448889  5.495819   \n",
      "Oceania         3.622500  2.054721   3.647500  2.008466   4.103750  2.723118   \n",
      "South America   6.870833  2.807058   6.518333  2.801577   6.410833  2.936508   \n",
      "\n",
      "                    2013                 2014            ...      2017  \\\n",
      "                    mean       std       mean       std  ...      mean   \n",
      "continent                                                ...             \n",
      "Africa          9.132453  7.309285   9.121321  7.291359  ...  9.284528   \n",
      "Asia            5.852128  4.668405   5.853191  4.681301  ...  6.171277   \n",
      "Europe         11.466667  6.969209  10.971282  6.759765  ...  8.359744   \n",
      "North America   8.840556  6.081829   8.512222  5.801927  ...  7.391111   \n",
      "Oceania         3.980000  2.640119   3.976250  2.659205  ...  3.872500   \n",
      "South America   6.335000  2.808780   6.347500  2.834332  ...  7.281667   \n",
      "\n",
      "                             2018                2019                 2020  \\\n",
      "                    std      mean       std      mean       std       mean   \n",
      "continent                                                                    \n",
      "Africa         7.407620  9.237925  7.358425  9.264340  7.455293  10.307736   \n",
      "Asia           5.277201  6.090213  5.409128  5.949149  5.254008   7.012340   \n",
      "Europe         5.177845  7.427436  4.738206  6.764359  4.124734   7.470513   \n",
      "North America  5.326446  7.281111  5.253180  7.095000  4.770490   9.297778   \n",
      "Oceania        2.492834  3.851250  2.455893  3.773750  2.369068   4.273750   \n",
      "South America  3.398994  7.496667  3.408856  7.719167  3.379845  10.275000   \n",
      "\n",
      "                              2021            \n",
      "                    std       mean       std  \n",
      "continent                                     \n",
      "Africa         7.928166  10.473585  8.131636  \n",
      "Asia           5.699609   6.906170  5.414745  \n",
      "Europe         4.071218   7.414872  3.947825  \n",
      "North America  4.963045   9.155000  5.076482  \n",
      "Oceania        2.617490   4.280000  2.671522  \n",
      "South America  3.411263   9.924167  3.611624  \n",
      "\n",
      "[6 rows x 24 columns]\n"
     ]
    }
   ],
   "source": [
    "# Print the mean and standard deviation of rates by year\n",
    "print(unemployment[['2010','2011','2012','2013','2014','2015','2016','2017','2018','2019','2020','2021']].agg(['mean','std']))\n",
    "\n",
    "# Print yearly mean and standard deviation grouped by continent\n",
    "print(unemployment.groupby('continent')[['2010','2011','2012','2013','2014','2015','2016','2017','2018','2019','2020','2021']].agg(['mean','std']))"
   ],
   "metadata": {
    "collapsed": false,
    "ExecuteTime": {
     "end_time": "2025-02-26T04:43:10.015471300Z",
     "start_time": "2025-02-26T04:43:09.559059400Z"
    }
   },
   "id": "30929ebd4a210d94",
   "execution_count": 25
  },
  {
   "cell_type": "markdown",
   "source": [
    "### Named aggregations"
   ],
   "metadata": {
    "collapsed": false
   },
   "id": "81581d0a9289f18a"
  },
  {
   "cell_type": "markdown",
   "source": [
    "You've seen how .groupby() and .agg() can be combined to show summaries across categories. Sometimes, it's helpful to name new columns when aggregating so that it's clear in the code output what aggregations are being applied and where.\n",
    "\n",
    "Your task is to create a DataFrame called continent_summary which shows a row for each continent. The DataFrame columns will contain the mean unemployment rate for each continent in 2021 as well as the standard deviation of the 2021 employment rate. And of course, you'll rename the columns so that their contents are clear!"
   ],
   "metadata": {
    "collapsed": false
   },
   "id": "dd9737d748de6b5a"
  },
  {
   "cell_type": "code",
   "outputs": [
    {
     "name": "stdout",
     "output_type": "stream",
     "text": [
      "               mean_rate_2021  std_rate_2021\n",
      "continent                                   \n",
      "Africa              10.473585       8.131636\n",
      "Asia                 6.906170       5.414745\n",
      "Europe               7.414872       3.947825\n",
      "North America        9.155000       5.076482\n",
      "Oceania              4.280000       2.671522\n",
      "South America        9.924167       3.611624\n"
     ]
    }
   ],
   "source": [
    "continent_summary = unemployment.groupby(\"continent\").agg(\n",
    "    # Create the mean_rate_2021 column\n",
    "    mean_rate_2021 = ('2021','mean'),\n",
    "    # Create the std_rate_2021 column\n",
    "    std_rate_2021 = ('2021','std'),\n",
    ")\n",
    "print(continent_summary)"
   ],
   "metadata": {
    "collapsed": false,
    "ExecuteTime": {
     "end_time": "2025-02-26T04:49:03.126326500Z",
     "start_time": "2025-02-26T04:49:02.934609400Z"
    }
   },
   "id": "415a7ce958234b8f",
   "execution_count": 27
  },
  {
   "cell_type": "markdown",
   "source": [
    "### Visualizing categorical summaries"
   ],
   "metadata": {
    "collapsed": false
   },
   "id": "469928800963ac36"
  },
  {
   "cell_type": "markdown",
   "source": [
    "As you've learned in this chapter, Seaborn has many great visualizations for exploration, including a bar plot for displaying an aggregated average value by category of data.\n",
    "\n",
    "In Seaborn, bar plots include a vertical bar indicating the 95% confidence interval for the categorical mean. Since confidence intervals are calculated using both the number of values and the variability of those values, they give a helpful indication of how much data can be relied upon.\n",
    "\n",
    "Your task is to create a bar plot to visualize the means and confidence intervals of unemployment rates across the different continents."
   ],
   "metadata": {
    "collapsed": false
   },
   "id": "fd5eecb23077c027"
  },
  {
   "cell_type": "code",
   "outputs": [
    {
     "data": {
      "text/plain": "<Figure size 1200x800 with 1 Axes>",
      "image/png": "[encoded data removed]"
     },
     "metadata": {},
     "output_type": "display_data"
    }
   ],
   "source": [
    "# Create a bar plot showing continents on the x-axis and their respective average 2021 unemployment rates on the y-axis.\n",
    "plt.figure(figsize=(12, 8))\n",
    "sns.barplot(data=unemployment, x='continent', y='2021', hue='continent', palette='Spectral')\n",
    "plt.show()"
   ],
   "metadata": {
    "collapsed": false,
    "ExecuteTime": {
     "end_time": "2025-02-26T23:09:10.218622500Z",
     "start_time": "2025-02-26T23:09:09.163296100Z"
    }
   },
   "id": "26e85b006d35cce0",
   "execution_count": 32
  }
 ],
 "metadata": {
  "kernelspec": {
   "display_name": "Python 3",
   "language": "python",
   "name": "python3"
  },
  "language_info": {
   "codemirror_mode": {
    "name": "ipython",
    "version": 2
   },
   "file_extension": ".py",
   "mimetype": "text/x-python",
   "name": "python",
   "nbconvert_exporter": "python",
   "pygments_lexer": "ipython2",
   "version": "2.7.6"
  }
 },
 "nbformat": 4,
 "nbformat_minor": 5
}
