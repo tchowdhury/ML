{
 "cells": [
  {
   "cell_type": "code",
   "execution_count": 27,
   "id": "initial_id",
   "metadata": {
    "collapsed": true,
    "ExecuteTime": {
     "end_time": "2025-02-27T00:42:22.768792300Z",
     "start_time": "2025-02-27T00:42:22.602185600Z"
    }
   },
   "outputs": [],
   "source": [
    "import pandas as pd\n",
    "import seaborn as sns\n",
    "from matplotlib import pyplot as plt\n",
    "import numpy as np"
   ]
  },
  {
   "cell_type": "markdown",
   "source": [
    "## Addressing Missing Data"
   ],
   "metadata": {
    "collapsed": false
   },
   "id": "666f1a1aca6d5ca4"
  },
  {
   "cell_type": "code",
   "outputs": [
    {
     "data": {
      "text/plain": "           Airline Date_of_Journey    Source Destination  \\\n0      Jet Airways       9/06/2019     Delhi      Cochin   \n1           IndiGo      12/05/2019   Kolkata    Banglore   \n2           IndiGo      01/03/2019  Banglore   New Delhi   \n3         SpiceJet      24/06/2019   Kolkata    Banglore   \n4      Jet Airways      12/03/2019  Banglore   New Delhi   \n...            ...             ...       ...         ...   \n10655     Air Asia       9/04/2019   Kolkata    Banglore   \n10656    Air India      27/04/2019   Kolkata    Banglore   \n10657  Jet Airways      27/04/2019  Banglore       Delhi   \n10658      Vistara      01/03/2019  Banglore   New Delhi   \n10659    Air India       9/05/2019     Delhi      Cochin   \n\n                       Route Dep_Time  Arrival_Time Duration Total_Stops  \\\n0      DEL → LKO → BOM → COK    09:25  04:25 10 Jun      19h     2 stops   \n1            CCU → NAG → BLR    18:05         23:30   5h 25m      1 stop   \n2            BLR → NAG → DEL    16:50         21:35   4h 45m      1 stop   \n3                  CCU → BLR    09:00         11:25   2h 25m    non-stop   \n4            BLR → BOM → DEL    18:55  10:25 13 Mar  15h 30m      1 stop   \n...                      ...      ...           ...      ...         ...   \n10655              CCU → BLR    19:55         22:25   2h 30m    non-stop   \n10656              CCU → BLR    20:45         23:20   2h 35m    non-stop   \n10657              BLR → DEL      NaN         11:20       3h    non-stop   \n10658              BLR → DEL    11:30         14:10   2h 40m    non-stop   \n10659  DEL → GOI → BOM → COK    10:55         19:15   8h 20m     2 stops   \n\n                   Additional_Info    Price  \n0                          No info  13882.0  \n1                          No info   6218.0  \n2                          No info  13302.0  \n3                          No info   3873.0  \n4      In-flight meal not included  11087.0  \n...                            ...      ...  \n10655                      No info   4107.0  \n10656                      No info   4145.0  \n10657                          NaN   7229.0  \n10658                      No info  12648.0  \n10659                      No info  11753.0  \n\n[10660 rows x 11 columns]",
      "text/html": "<div>\n<style scoped>\n    .dataframe tbody tr th:only-of-type {\n        vertical-align: middle;\n    }\n\n    .dataframe tbody tr th {\n        vertical-align: top;\n    }\n\n    .dataframe thead th {\n        text-align: right;\n    }\n</style>\n<table border=\"1\" class=\"dataframe\">\n  <thead>\n    <tr style=\"text-align: right;\">\n      <th></th>\n      <th>Airline</th>\n      <th>Date_of_Journey</th>\n      <th>Source</th>\n      <th>Destination</th>\n      <th>Route</th>\n      <th>Dep_Time</th>\n      <th>Arrival_Time</th>\n      <th>Duration</th>\n      <th>Total_Stops</th>\n      <th>Additional_Info</th>\n      <th>Price</th>\n    </tr>\n  </thead>\n  <tbody>\n    <tr>\n      <th>0</th>\n      <td>Jet Airways</td>\n      <td>9/06/2019</td>\n      <td>Delhi</td>\n      <td>Cochin</td>\n      <td>DEL → LKO → BOM → COK</td>\n      <td>09:25</td>\n      <td>04:25 10 Jun</td>\n      <td>19h</td>\n      <td>2 stops</td>\n      <td>No info</td>\n      <td>13882.0</td>\n    </tr>\n    <tr>\n      <th>1</th>\n      <td>IndiGo</td>\n      <td>12/05/2019</td>\n      <td>Kolkata</td>\n      <td>Banglore</td>\n      <td>CCU → NAG → BLR</td>\n      <td>18:05</td>\n      <td>23:30</td>\n      <td>5h 25m</td>\n      <td>1 stop</td>\n      <td>No info</td>\n      <td>6218.0</td>\n    </tr>\n    <tr>\n      <th>2</th>\n      <td>IndiGo</td>\n      <td>01/03/2019</td>\n      <td>Banglore</td>\n      <td>New Delhi</td>\n      <td>BLR → NAG → DEL</td>\n      <td>16:50</td>\n      <td>21:35</td>\n      <td>4h 45m</td>\n      <td>1 stop</td>\n      <td>No info</td>\n      <td>13302.0</td>\n    </tr>\n    <tr>\n      <th>3</th>\n      <td>SpiceJet</td>\n      <td>24/06/2019</td>\n      <td>Kolkata</td>\n      <td>Banglore</td>\n      <td>CCU → BLR</td>\n      <td>09:00</td>\n      <td>11:25</td>\n      <td>2h 25m</td>\n      <td>non-stop</td>\n      <td>No info</td>\n      <td>3873.0</td>\n    </tr>\n    <tr>\n      <th>4</th>\n      <td>Jet Airways</td>\n      <td>12/03/2019</td>\n      <td>Banglore</td>\n      <td>New Delhi</td>\n      <td>BLR → BOM → DEL</td>\n      <td>18:55</td>\n      <td>10:25 13 Mar</td>\n      <td>15h 30m</td>\n      <td>1 stop</td>\n      <td>In-flight meal not included</td>\n      <td>11087.0</td>\n    </tr>\n    <tr>\n      <th>...</th>\n      <td>...</td>\n      <td>...</td>\n      <td>...</td>\n      <td>...</td>\n      <td>...</td>\n      <td>...</td>\n      <td>...</td>\n      <td>...</td>\n      <td>...</td>\n      <td>...</td>\n      <td>...</td>\n    </tr>\n    <tr>\n      <th>10655</th>\n      <td>Air Asia</td>\n      <td>9/04/2019</td>\n      <td>Kolkata</td>\n      <td>Banglore</td>\n      <td>CCU → BLR</td>\n      <td>19:55</td>\n      <td>22:25</td>\n      <td>2h 30m</td>\n      <td>non-stop</td>\n      <td>No info</td>\n      <td>4107.0</td>\n    </tr>\n    <tr>\n      <th>10656</th>\n      <td>Air India</td>\n      <td>27/04/2019</td>\n      <td>Kolkata</td>\n      <td>Banglore</td>\n      <td>CCU → BLR</td>\n      <td>20:45</td>\n      <td>23:20</td>\n      <td>2h 35m</td>\n      <td>non-stop</td>\n      <td>No info</td>\n      <td>4145.0</td>\n    </tr>\n    <tr>\n      <th>10657</th>\n      <td>Jet Airways</td>\n      <td>27/04/2019</td>\n      <td>Banglore</td>\n      <td>Delhi</td>\n      <td>BLR → DEL</td>\n      <td>NaN</td>\n      <td>11:20</td>\n      <td>3h</td>\n      <td>non-stop</td>\n      <td>NaN</td>\n      <td>7229.0</td>\n    </tr>\n    <tr>\n      <th>10658</th>\n      <td>Vistara</td>\n      <td>01/03/2019</td>\n      <td>Banglore</td>\n      <td>New Delhi</td>\n      <td>BLR → DEL</td>\n      <td>11:30</td>\n      <td>14:10</td>\n      <td>2h 40m</td>\n      <td>non-stop</td>\n      <td>No info</td>\n      <td>12648.0</td>\n    </tr>\n    <tr>\n      <th>10659</th>\n      <td>Air India</td>\n      <td>9/05/2019</td>\n      <td>Delhi</td>\n      <td>Cochin</td>\n      <td>DEL → GOI → BOM → COK</td>\n      <td>10:55</td>\n      <td>19:15</td>\n      <td>8h 20m</td>\n      <td>2 stops</td>\n      <td>No info</td>\n      <td>11753.0</td>\n    </tr>\n  </tbody>\n</table>\n<p>10660 rows × 11 columns</p>\n</div>"
     },
     "execution_count": 38,
     "metadata": {},
     "output_type": "execute_result"
    }
   ],
   "source": [
    "# import data\n",
    "planes = pd.read_csv('../data/planes.csv')\n",
    "planes"
   ],
   "metadata": {
    "collapsed": false,
    "ExecuteTime": {
     "end_time": "2025-02-27T03:55:45.214935200Z",
     "start_time": "2025-02-27T03:55:44.695166100Z"
    }
   },
   "id": "1d97b33e3dd7d9b6",
   "execution_count": 38
  },
  {
   "cell_type": "markdown",
   "source": [
    "### Dealing with missing data"
   ],
   "metadata": {
    "collapsed": false
   },
   "id": "8a645281368d0a06"
  },
  {
   "cell_type": "markdown",
   "source": [
    "Working with a dataset on plane ticket prices, stored as a pandas DataFrame called planes, you'll need to count the number of missing values across all columns, calculate five percent of all values, use this threshold to remove observations, and check how many missing values remain in the dataset."
   ],
   "metadata": {
    "collapsed": false
   },
   "id": "e4e3c67ee1c56802"
  },
  {
   "cell_type": "code",
   "outputs": [
    {
     "name": "stdout",
     "output_type": "stream",
     "text": [
      "Airline            427\n",
      "Date_of_Journey    322\n",
      "Source             187\n",
      "Destination        347\n",
      "Route              256\n",
      "Dep_Time           260\n",
      "Arrival_Time       194\n",
      "Duration           214\n",
      "Total_Stops        212\n",
      "Additional_Info    589\n",
      "Price              616\n",
      "dtype: int64\n",
      "Airline              0\n",
      "Date_of_Journey      0\n",
      "Source               0\n",
      "Destination          0\n",
      "Route                0\n",
      "Dep_Time             0\n",
      "Arrival_Time         0\n",
      "Duration             0\n",
      "Total_Stops          0\n",
      "Additional_Info    300\n",
      "Price              368\n",
      "dtype: int64\n"
     ]
    }
   ],
   "source": [
    "# Count the number of missing values in each column\n",
    "print(planes.isna().sum())\n",
    "\n",
    "# Find the five percent threshold\n",
    "threshold = len(planes) * 0.05\n",
    "\n",
    "# Create a filter\n",
    "cols_to_drop = planes.columns[planes.isna().sum() <= threshold]\n",
    "\n",
    "# Drop missing values for columns below the threshold\n",
    "planes.dropna(subset=cols_to_drop, inplace=True)\n",
    "\n",
    "print(planes.isna().sum())"
   ],
   "metadata": {
    "collapsed": false,
    "ExecuteTime": {
     "end_time": "2025-02-26T22:47:19.987458200Z",
     "start_time": "2025-02-26T22:47:19.855079900Z"
    }
   },
   "id": "b351523c4aeb7a65",
   "execution_count": 7
  },
  {
   "cell_type": "markdown",
   "source": [
    "### Strategies for remaining missing data"
   ],
   "metadata": {
    "collapsed": false
   },
   "id": "19c558175d1df04e"
  },
  {
   "cell_type": "markdown",
   "source": [
    "The five percent rule has worked nicely for your planes dataset, eliminating missing values from nine out of 11 columns!\n",
    "Now, you need to decide what to do with the \"Additional_Info\" and \"Price\" columns, which are missing 300 and 368 values respectively.\n",
    "You'll first take a look at what \"Additional_Info\" contains, then visualize the price of plane tickets by different airlines"
   ],
   "metadata": {
    "collapsed": false
   },
   "id": "292388d331dfea64"
  },
  {
   "cell_type": "code",
   "outputs": [
    {
     "name": "stdout",
     "output_type": "stream",
     "text": [
      "Additional_Info\n",
      "No info                         6399\n",
      "In-flight meal not included     1525\n",
      "No check-in baggage included     258\n",
      "1 Long layover                    14\n",
      "Change airports                    7\n",
      "No Info                            2\n",
      "Business class                     1\n",
      "Red-eye flight                     1\n",
      "2 Long layover                     1\n",
      "Name: count, dtype: int64\n"
     ]
    },
    {
     "data": {
      "text/plain": "<Figure size 1200x800 with 1 Axes>",
      "image/png": "[encoded data removed]"
     },
     "metadata": {},
     "output_type": "display_data"
    }
   ],
   "source": [
    "# Check the values of the Additional_Info column\n",
    "print(planes[\"Additional_Info\"].value_counts())\n",
    "\n",
    "# Create a box plot of Price by Airline\n",
    "plt.figure(figsize=(12, 8))\n",
    "sns.boxplot(data=planes, x=\"Airline\", y=\"Price\", hue='Airline', palette='Spectral')\n",
    "plt.show()"
   ],
   "metadata": {
    "collapsed": false,
    "ExecuteTime": {
     "end_time": "2025-02-26T23:09:43.307135500Z",
     "start_time": "2025-02-26T23:09:42.744292600Z"
    }
   },
   "id": "4dc53a3b715dbb0e",
   "execution_count": 14
  },
  {
   "cell_type": "markdown",
   "source": [
    "### Imputing missing plane prices"
   ],
   "metadata": {
    "collapsed": false
   },
   "id": "5fbaf1c7fd036dee"
  },
  {
   "cell_type": "markdown",
   "source": [
    "You've removed the \"Additional_Info\" column from planes—the last step is to impute the missing data in the \"Price\" column of the dataset."
   ],
   "metadata": {
    "collapsed": false
   },
   "id": "a2e79cd9e9c8e29e"
  },
  {
   "cell_type": "code",
   "outputs": [
    {
     "name": "stdout",
     "output_type": "stream",
     "text": [
      "Airline\n",
      "Air Asia              5192.0\n",
      "Air India             9443.0\n",
      "GoAir                 5003.5\n",
      "IndiGo                5054.0\n",
      "Jet Airways          11507.0\n",
      "Multiple carriers    10197.0\n",
      "SpiceJet              3873.0\n",
      "Vistara               8028.0\n",
      "Name: Price, dtype: float64\n",
      "Airline            0\n",
      "Date_of_Journey    0\n",
      "Source             0\n",
      "Destination        0\n",
      "Route              0\n",
      "Dep_Time           0\n",
      "Arrival_Time       0\n",
      "Duration           0\n",
      "Total_Stops        0\n",
      "Price              0\n",
      "dtype: int64\n"
     ]
    }
   ],
   "source": [
    "#planes = planes.drop('Additional_Info', axis=1)\n",
    "\n",
    "# Calculate median plane ticket prices by Airline\n",
    "airline_prices = planes.groupby(\"Airline\")[\"Price\"].median()\n",
    "\n",
    "print(airline_prices)\n",
    "\n",
    "# Convert to a dictionary\n",
    "prices_dict = airline_prices.to_dict()\n",
    "\n",
    "# Map the dictionary to missing values of Price by Airline\n",
    "planes[\"Price\"] = planes[\"Price\"].fillna(planes[\"Airline\"].map(prices_dict))\n",
    "\n",
    "# Check for missing values\n",
    "print(planes.isna().sum())"
   ],
   "metadata": {
    "collapsed": false,
    "ExecuteTime": {
     "end_time": "2025-02-26T23:17:18.807027300Z",
     "start_time": "2025-02-26T23:17:18.601906Z"
    }
   },
   "id": "334d19722da5d326",
   "execution_count": 19
  },
  {
   "cell_type": "markdown",
   "source": [
    "## Coverting and analyzing categorical data"
   ],
   "metadata": {
    "collapsed": false
   },
   "id": "c93782044039d1eb"
  },
  {
   "cell_type": "markdown",
   "source": [
    "### Finding the number of unique values"
   ],
   "metadata": {
    "collapsed": false
   },
   "id": "fa086d8834e9440f"
  },
  {
   "cell_type": "markdown",
   "source": [
    "You would like to practice some of the categorical data manipulation and analysis skills that you've just seen. To help identify which data could be reformatted to extract value, you are going to find out which non-numeric columns in the planes dataset have a large number of unique values."
   ],
   "metadata": {
    "collapsed": false
   },
   "id": "a66ffed9db228a1c"
  },
  {
   "cell_type": "code",
   "outputs": [
    {
     "name": "stdout",
     "output_type": "stream",
     "text": [
      "Number of unique values in Airline column:  8\n",
      "Number of unique values in Date_of_Journey column:  44\n",
      "Number of unique values in Source column:  5\n",
      "Number of unique values in Destination column:  6\n",
      "Number of unique values in Route column:  122\n",
      "Number of unique values in Dep_Time column:  218\n",
      "Number of unique values in Arrival_Time column:  1220\n",
      "Number of unique values in Duration column:  362\n",
      "Number of unique values in Total_Stops column:  5\n"
     ]
    }
   ],
   "source": [
    "# Filter the DataFrame for object columns\n",
    "non_numeric = planes.select_dtypes(\"object\")\n",
    "\n",
    "# Loop through columns\n",
    "for col in non_numeric.columns:\n",
    "  \n",
    "  # Print the number of unique values\n",
    "  print(f\"Number of unique values in {col} column: \", non_numeric[col].nunique())"
   ],
   "metadata": {
    "collapsed": false,
    "ExecuteTime": {
     "end_time": "2025-02-27T00:29:57.049759500Z",
     "start_time": "2025-02-27T00:29:56.797003600Z"
    }
   },
   "id": "c1d7de70a7731212",
   "execution_count": 24
  },
  {
   "cell_type": "markdown",
   "source": [
    "### Flight duration categories"
   ],
   "metadata": {
    "collapsed": false
   },
   "id": "75c3569d9543538a"
  },
  {
   "cell_type": "code",
   "outputs": [
    {
     "data": {
      "text/plain": "0        19h\n1     5h 25m\n2     4h 45m\n3     2h 25m\n4    15h 30m\nName: Duration, dtype: object"
     },
     "execution_count": 25,
     "metadata": {},
     "output_type": "execute_result"
    }
   ],
   "source": [
    "planes[\"Duration\"].head()"
   ],
   "metadata": {
    "collapsed": false,
    "ExecuteTime": {
     "end_time": "2025-02-27T00:32:09.247199900Z",
     "start_time": "2025-02-27T00:32:09.161721900Z"
    }
   },
   "id": "b18b27fef0213a3a",
   "execution_count": 25
  },
  {
   "cell_type": "markdown",
   "source": [
    "You'll create a \"Duration_Category\" column in the planes DataFrame. Before you can do this you'll need to create a list of the values you would like to insert into the DataFrame, followed by the existing values that these should be created from."
   ],
   "metadata": {
    "collapsed": false
   },
   "id": "b333e9980e3acb3f"
  },
  {
   "cell_type": "code",
   "outputs": [],
   "source": [
    "# Create a list of categories\n",
    "flight_categories = [\"Short-haul\", \"Medium\",  \"Long-haul\"]\n",
    "\n",
    "# Create short-haul values\n",
    "short_flights = \"^0h|^1h|^2h|^3h|^4h\"\n",
    "\n",
    "# Create medium-haul values\n",
    "medium_flights = \"^5h|^6h|^7h|^8h|^9h\"\n",
    "\n",
    "# Create long-haul values\n",
    "long_flights = \"10h|11h|12h|13h|14h|15h|16h\""
   ],
   "metadata": {
    "collapsed": false,
    "ExecuteTime": {
     "end_time": "2025-02-27T00:45:56.385432200Z",
     "start_time": "2025-02-27T00:45:56.378268800Z"
    }
   },
   "id": "de54df4db6b7cbee",
   "execution_count": 30
  },
  {
   "cell_type": "markdown",
   "source": [
    "### Adding duration categories"
   ],
   "metadata": {
    "collapsed": false
   },
   "id": "10e742ddc94a22e4"
  },
  {
   "cell_type": "markdown",
   "source": [
    "Now that you've set up the categories and values you want to capture, it's time to build a new column to analyze the frequency of flights by duration!\n",
    "The variables flight_categories, short_flights, medium_flights, and long_flights that you previously created are available to you."
   ],
   "metadata": {
    "collapsed": false
   },
   "id": "1d372b10ef19468"
  },
  {
   "cell_type": "code",
   "outputs": [
    {
     "data": {
      "text/plain": "<Figure size 1200x800 with 1 Axes>",
      "image/png": "[encoded data removed]"
     },
     "metadata": {},
     "output_type": "display_data"
    }
   ],
   "source": [
    "# Create conditions for values in flight_categories to be created\n",
    "conditions = [\n",
    "    (planes[\"Duration\"].str.contains(short_flights)),\n",
    "    (planes[\"Duration\"].str.contains(medium_flights)),\n",
    "    (planes[\"Duration\"].str.contains(long_flights))\n",
    "]\n",
    "\n",
    "# Apply the conditions list to the flight_categories\n",
    "planes[\"Duration_Category\"] = np.select(conditions, \n",
    "                                        flight_categories,\n",
    "                                        default=\"Extreme duration\")\n",
    "\n",
    "# Plot the counts of each category\n",
    "plt.figure(figsize=(12, 8))\n",
    "sns.countplot(data=planes, x=\"Duration_Category\", hue='Duration_Category', palette='Spectral')\n",
    "plt.show()"
   ],
   "metadata": {
    "collapsed": false,
    "ExecuteTime": {
     "end_time": "2025-02-27T00:46:03.467510400Z",
     "start_time": "2025-02-27T00:46:02.731022500Z"
    }
   },
   "id": "7e7da0f91fe200ac",
   "execution_count": 31
  },
  {
   "cell_type": "markdown",
   "source": [
    "## Working with numeric data"
   ],
   "metadata": {
    "collapsed": false
   },
   "id": "949f455a81a076f7"
  },
  {
   "cell_type": "markdown",
   "source": [
    "### Flight duration"
   ],
   "metadata": {
    "collapsed": false
   },
   "id": "ad1f161fbe6d81f0"
  },
  {
   "cell_type": "markdown",
   "source": [
    "You would like to analyze the duration of flights, but unfortunately, the \"Duration\" column in the planes DataFrame currently contains string values."
   ],
   "metadata": {
    "collapsed": false
   },
   "id": "1325ca86f5ff9c19"
  },
  {
   "cell_type": "code",
   "outputs": [
    {
     "data": {
      "text/plain": "<Figure size 640x480 with 1 Axes>",
      "image/png": "[encoded data removed]"
     },
     "metadata": {},
     "output_type": "display_data"
    }
   ],
   "source": [
    "# Preview the column\n",
    "#print(planes[\"Duration\"].head())\n",
    "planes = planes.drop(\"Duration_h\", axis=1)\n",
    "\n",
    "# Function to convert into hour\n",
    "def time_string_to_float(time_str):\n",
    "    \"\"\"\n",
    "    Converts a time string into a float representing the total hours.\n",
    "    \n",
    "    Args:\n",
    "    time_str (str): Time in string format (e.g., \"19h\", \"7h 30m\", \"45m\").\n",
    "    \n",
    "    Returns:\n",
    "    float: Total hours as a float.\n",
    "    \"\"\"\n",
    "    # Initialize total hours\n",
    "    total_hours = 0.0\n",
    "    \n",
    "    # Split the input string into components\n",
    "    time_components = time_str.split()\n",
    "    \n",
    "    for component in time_components:\n",
    "        if 'h' in component:\n",
    "            # Extract hours\n",
    "            hours = int(component[:-1])  # Remove the 'h' and convert to int\n",
    "            total_hours += hours\n",
    "        elif 'm' in component:\n",
    "            # Extract minutes\n",
    "            minutes = int(component[:-1])  # Remove the 'm' and convert to int\n",
    "            total_hours += minutes / 60.0  # Convert minutes to hours\n",
    "    \n",
    "    return total_hours\n",
    "\n",
    "# Create a new column called Duration_h and stored the duration value as hours\n",
    "planes[\"Duration_h\"] = planes.apply(lambda row: time_string_to_float(str(row.Duration)), axis=1 )\n",
    "\n",
    "# Remove the string character\n",
    "#planes[\"Duration\"] = planes[\"Duration\"].str.replace(\"h\",\"\")\n",
    "\n",
    "# Plot a histogram\n",
    "sns.histplot(data=planes, x='Duration_h')\n",
    "plt.show()"
   ],
   "metadata": {
    "collapsed": false,
    "ExecuteTime": {
     "end_time": "2025-02-27T04:41:23.523562800Z",
     "start_time": "2025-02-27T04:41:22.705618Z"
    }
   },
   "id": "f07ef69bf1cc4db7",
   "execution_count": 55
  },
  {
   "cell_type": "markdown",
   "source": [
    "### Duration_h"
   ],
   "metadata": {
    "collapsed": false
   },
   "id": "b26330c6f080e997"
  },
  {
   "cell_type": "markdown",
   "source": [
    "Now \"Duration_h\" and \"Price\" both contain numeric values in the planes DataFrame, you would like to calculate summary statistics for them that are conditional on values in other columns."
   ],
   "metadata": {
    "collapsed": false
   },
   "id": "ddc9118ffa2dae8b"
  },
  {
   "cell_type": "code",
   "outputs": [
    {
     "name": "stdout",
     "output_type": "stream",
     "text": [
      "Airline            airline_price_st_dev\n",
      "Jet Airways        4230.748840             3685\n",
      "IndiGo             2266.753552             1981\n",
      "Air India          3865.871975             1686\n",
      "Multiple carriers  3763.674706             1148\n",
      "SpiceJet           1790.851944              787\n",
      "Vistara            2864.267802              455\n",
      "Air Asia           2016.738954              309\n",
      "GoAir              2790.815129              182\n",
      "Name: count, dtype: int64\n"
     ]
    }
   ],
   "source": [
    "# Price standard deviation by Airline\n",
    "planes[\"airline_price_st_dev\"] = planes.groupby(\"Airline\")[\"Price\"].transform(lambda x: x.std())\n",
    "\n",
    "print(planes[[\"Airline\", \"airline_price_st_dev\"]].value_counts())"
   ],
   "metadata": {
    "collapsed": false,
    "ExecuteTime": {
     "end_time": "2025-02-27T04:46:39.893312200Z",
     "start_time": "2025-02-27T04:46:39.801759900Z"
    }
   },
   "id": "ee5f402aa25f110a",
   "execution_count": 56
  },
  {
   "cell_type": "code",
   "outputs": [
    {
     "name": "stdout",
     "output_type": "stream",
     "text": [
      "Airline            airline_median_duration\n",
      "Jet Airways        13.333333                  3685\n",
      "IndiGo             2.916667                   1981\n",
      "Air India          15.333333                  1686\n",
      "Multiple carriers  10.208333                  1148\n",
      "SpiceJet           2.500000                    787\n",
      "Vistara            3.166667                    455\n",
      "Air Asia           2.833333                    309\n",
      "GoAir              4.458333                    182\n",
      "Name: count, dtype: int64\n"
     ]
    }
   ],
   "source": [
    "# Median Duration by Airline\n",
    "planes[\"airline_median_duration\"] = planes.groupby(\"Airline\")[\"Duration_h\"].transform(lambda x: x.median())\n",
    "\n",
    "print(planes[[\"Airline\",\"airline_median_duration\"]].value_counts())"
   ],
   "metadata": {
    "collapsed": false,
    "ExecuteTime": {
     "end_time": "2025-02-27T04:48:05.312471300Z",
     "start_time": "2025-02-27T04:48:05.123341800Z"
    }
   },
   "id": "3466a26c90cb54a6",
   "execution_count": 57
  },
  {
   "cell_type": "code",
   "outputs": [
    {
     "name": "stdout",
     "output_type": "stream",
     "text": [
      "Destination  price_destination_mean\n",
      "Cochin       10506.993486              4391\n",
      "Banglore     9132.225153               2773\n",
      "Delhi        5157.794118               1219\n",
      "New Delhi    11738.589499               888\n",
      "Hyderabad    5025.210280                673\n",
      "Kolkata      4801.489796                369\n",
      "Name: count, dtype: int64\n"
     ]
    }
   ],
   "source": [
    "# Mean Price by Destination\n",
    "planes[\"price_destination_mean\"] = planes.groupby(\"Destination\")[\"Price\"].transform(lambda x: x.mean())\n",
    "\n",
    "print(planes[[\"Destination\",\"price_destination_mean\"]].value_counts())"
   ],
   "metadata": {
    "collapsed": false,
    "ExecuteTime": {
     "end_time": "2025-02-27T04:49:26.047967700Z",
     "start_time": "2025-02-27T04:49:25.720526100Z"
    }
   },
   "id": "513828490db9fbd2",
   "execution_count": 58
  },
  {
   "cell_type": "markdown",
   "source": [
    "## Handling outliers"
   ],
   "metadata": {
    "collapsed": false
   },
   "id": "2bfc20a147f450b"
  },
  {
   "cell_type": "markdown",
   "source": [
    "### Identifying outliers"
   ],
   "metadata": {
    "collapsed": false
   },
   "id": "53cfec6e086b78b6"
  },
  {
   "cell_type": "markdown",
   "source": [
    "Try to figure out if there are outliers in the \"Price\" or \"Duration\" columns of the planes DataFrame"
   ],
   "metadata": {
    "collapsed": false
   },
   "id": "c8911219e1925bc7"
  },
  {
   "cell_type": "code",
   "outputs": [
    {
     "data": {
      "text/plain": "<Figure size 1200x800 with 1 Axes>",
      "image/png": "[encoded data removed]"
     },
     "metadata": {},
     "output_type": "display_data"
    }
   ],
   "source": [
    "# Plot a histogram of flight prices\n",
    "plt.figure(figsize=(12, 8))\n",
    "sns.histplot(data=planes, x='Price', kde=True)\n",
    "plt.show()"
   ],
   "metadata": {
    "collapsed": false,
    "ExecuteTime": {
     "end_time": "2025-02-27T05:04:39.738354800Z",
     "start_time": "2025-02-27T05:04:37.925387500Z"
    }
   },
   "id": "6b4f76010a25c8e3",
   "execution_count": 59
  },
  {
   "cell_type": "code",
   "outputs": [
    {
     "name": "stdout",
     "output_type": "stream",
     "text": [
      "count    10660.000000\n",
      "mean        10.508537\n",
      "std          8.520648\n",
      "min          0.000000\n",
      "25%          2.833333\n",
      "50%          8.416667\n",
      "75%         15.416667\n",
      "max         47.666667\n",
      "Name: Duration_h, dtype: float64\n"
     ]
    }
   ],
   "source": [
    "# Display descriptive statistics for flight duration\n",
    "print(planes[\"Duration_h\"].describe())"
   ],
   "metadata": {
    "collapsed": false,
    "ExecuteTime": {
     "end_time": "2025-02-27T05:20:18.796588600Z",
     "start_time": "2025-02-27T05:20:18.544246800Z"
    }
   },
   "id": "49909ccab4c28462",
   "execution_count": 62
  },
  {
   "cell_type": "markdown",
   "source": [
    "### Removing outliers"
   ],
   "metadata": {
    "collapsed": false
   },
   "id": "f1e6874dd6ec98a4"
  },
  {
   "cell_type": "markdown",
   "source": [
    "While removing outliers isn't always the way to go, for your analysis, you've decided that you will only include flights where the \"Price\" is not an outlier.\n",
    "Therefore, you need to find the upper threshold and then use it to remove values above this from the planes DataFrame."
   ],
   "metadata": {
    "collapsed": false
   },
   "id": "9affa3972095aa24"
  },
  {
   "cell_type": "code",
   "outputs": [
    {
     "name": "stdout",
     "output_type": "stream",
     "text": [
      "count     9959.000000\n",
      "mean      8875.160860\n",
      "std       4057.202002\n",
      "min       1759.000000\n",
      "25%       5228.000000\n",
      "50%       8283.000000\n",
      "75%      12284.000000\n",
      "max      23001.000000\n",
      "Name: Price, dtype: float64\n"
     ]
    }
   ],
   "source": [
    "# Find the 75th and 25th percentiles\n",
    "price_seventy_fifth = planes[\"Price\"].quantile(0.75)\n",
    "price_twenty_fifth = planes[\"Price\"].quantile(0.25)\n",
    "\n",
    "# Calculate iqr\n",
    "prices_iqr = price_seventy_fifth - price_twenty_fifth\n",
    "\n",
    "# Calculate the thresholds\n",
    "upper = price_seventy_fifth + (1.5 * prices_iqr)\n",
    "lower = price_twenty_fifth - (1.5 * prices_iqr)\n",
    "\n",
    "# Subset the data\n",
    "planes = planes[(planes[\"Price\"] > lower) & (planes[\"Price\"] < upper)]\n",
    "\n",
    "print(planes[\"Price\"].describe())"
   ],
   "metadata": {
    "collapsed": false,
    "ExecuteTime": {
     "end_time": "2025-02-27T05:30:34.752332Z",
     "start_time": "2025-02-27T05:30:34.123136100Z"
    }
   },
   "id": "ab88739d7fd2dfba",
   "execution_count": 66
  }
 ],
 "metadata": {
  "kernelspec": {
   "display_name": "Python 3",
   "language": "python",
   "name": "python3"
  },
  "language_info": {
   "codemirror_mode": {
    "name": "ipython",
    "version": 2
   },
   "file_extension": ".py",
   "mimetype": "text/x-python",
   "name": "python",
   "nbconvert_exporter": "python",
   "pygments_lexer": "ipython2",
   "version": "2.7.6"
  }
 },
 "nbformat": 4,
 "nbformat_minor": 5
}
