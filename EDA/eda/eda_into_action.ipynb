{
 "cells": [
  {
   "cell_type": "code",
   "execution_count": 1,
   "id": "initial_id",
   "metadata": {
    "collapsed": true,
    "ExecuteTime": {
     "end_time": "2025-03-02T00:53:03.465104100Z",
     "start_time": "2025-03-02T00:53:03.390001700Z"
    }
   },
   "outputs": [],
   "source": [
    "import pandas as pd\n",
    "import seaborn as sns\n",
    "from matplotlib import pyplot as plt\n",
    "import numpy as np"
   ]
  },
  {
   "cell_type": "code",
   "outputs": [
    {
     "data": {
      "text/plain": "     Working_Year                 Designation Experience Employment_Status  \\\n0            2020              Data Scientist        Mid                FT   \n1            2020  Machine Learning Scientist     Senior                FT   \n2            2020           Big Data Engineer     Senior                FT   \n3            2020        Product Data Analyst        Mid                FT   \n4            2020   Machine Learning Engineer     Senior                FT   \n..            ...                         ...        ...               ...   \n602          2022               Data Engineer     Senior                FT   \n603          2022               Data Engineer     Senior                FT   \n604          2022                Data Analyst     Senior                FT   \n605          2022                Data Analyst     Senior                FT   \n606          2022                AI Scientist        Mid                FT   \n\n    Employee_Location Company_Size  Remote_Working_Ratio  Salary_USD  \\\n0                  DE            L                     0     76227.0   \n1                  JP            S                     0    248257.0   \n2                  GB            M                    50    104100.0   \n3                  HN            S                     0     19097.0   \n4                  US            L                    50    143225.0   \n..                ...          ...                   ...         ...   \n602                US            M                   100    147044.0   \n603                US            M                   100    120309.0   \n604                US            M                     0    123174.0   \n605                US            M                   100    143225.0   \n606                IN            L                   100    190967.0   \n\n         Job_Category  \n0    Machine Learning  \n1    Data Engineering  \n2      Data Analytics  \n3    Machine Learning  \n4      Data Analytics  \n..                ...  \n602      Data Science  \n603      Data Science  \n604      Data Science  \n605      Data Science  \n606  Machine Learning  \n\n[607 rows x 9 columns]",
      "text/html": "<div>\n<style scoped>\n    .dataframe tbody tr th:only-of-type {\n        vertical-align: middle;\n    }\n\n    .dataframe tbody tr th {\n        vertical-align: top;\n    }\n\n    .dataframe thead th {\n        text-align: right;\n    }\n</style>\n<table border=\"1\" class=\"dataframe\">\n  <thead>\n    <tr style=\"text-align: right;\">\n      <th></th>\n      <th>Working_Year</th>\n      <th>Designation</th>\n      <th>Experience</th>\n      <th>Employment_Status</th>\n      <th>Employee_Location</th>\n      <th>Company_Size</th>\n      <th>Remote_Working_Ratio</th>\n      <th>Salary_USD</th>\n      <th>Job_Category</th>\n    </tr>\n  </thead>\n  <tbody>\n    <tr>\n      <th>0</th>\n      <td>2020</td>\n      <td>Data Scientist</td>\n      <td>Mid</td>\n      <td>FT</td>\n      <td>DE</td>\n      <td>L</td>\n      <td>0</td>\n      <td>76227.0</td>\n      <td>Machine Learning</td>\n    </tr>\n    <tr>\n      <th>1</th>\n      <td>2020</td>\n      <td>Machine Learning Scientist</td>\n      <td>Senior</td>\n      <td>FT</td>\n      <td>JP</td>\n      <td>S</td>\n      <td>0</td>\n      <td>248257.0</td>\n      <td>Data Engineering</td>\n    </tr>\n    <tr>\n      <th>2</th>\n      <td>2020</td>\n      <td>Big Data Engineer</td>\n      <td>Senior</td>\n      <td>FT</td>\n      <td>GB</td>\n      <td>M</td>\n      <td>50</td>\n      <td>104100.0</td>\n      <td>Data Analytics</td>\n    </tr>\n    <tr>\n      <th>3</th>\n      <td>2020</td>\n      <td>Product Data Analyst</td>\n      <td>Mid</td>\n      <td>FT</td>\n      <td>HN</td>\n      <td>S</td>\n      <td>0</td>\n      <td>19097.0</td>\n      <td>Machine Learning</td>\n    </tr>\n    <tr>\n      <th>4</th>\n      <td>2020</td>\n      <td>Machine Learning Engineer</td>\n      <td>Senior</td>\n      <td>FT</td>\n      <td>US</td>\n      <td>L</td>\n      <td>50</td>\n      <td>143225.0</td>\n      <td>Data Analytics</td>\n    </tr>\n    <tr>\n      <th>...</th>\n      <td>...</td>\n      <td>...</td>\n      <td>...</td>\n      <td>...</td>\n      <td>...</td>\n      <td>...</td>\n      <td>...</td>\n      <td>...</td>\n      <td>...</td>\n    </tr>\n    <tr>\n      <th>602</th>\n      <td>2022</td>\n      <td>Data Engineer</td>\n      <td>Senior</td>\n      <td>FT</td>\n      <td>US</td>\n      <td>M</td>\n      <td>100</td>\n      <td>147044.0</td>\n      <td>Data Science</td>\n    </tr>\n    <tr>\n      <th>603</th>\n      <td>2022</td>\n      <td>Data Engineer</td>\n      <td>Senior</td>\n      <td>FT</td>\n      <td>US</td>\n      <td>M</td>\n      <td>100</td>\n      <td>120309.0</td>\n      <td>Data Science</td>\n    </tr>\n    <tr>\n      <th>604</th>\n      <td>2022</td>\n      <td>Data Analyst</td>\n      <td>Senior</td>\n      <td>FT</td>\n      <td>US</td>\n      <td>M</td>\n      <td>0</td>\n      <td>123174.0</td>\n      <td>Data Science</td>\n    </tr>\n    <tr>\n      <th>605</th>\n      <td>2022</td>\n      <td>Data Analyst</td>\n      <td>Senior</td>\n      <td>FT</td>\n      <td>US</td>\n      <td>M</td>\n      <td>100</td>\n      <td>143225.0</td>\n      <td>Data Science</td>\n    </tr>\n    <tr>\n      <th>606</th>\n      <td>2022</td>\n      <td>AI Scientist</td>\n      <td>Mid</td>\n      <td>FT</td>\n      <td>IN</td>\n      <td>L</td>\n      <td>100</td>\n      <td>190967.0</td>\n      <td>Machine Learning</td>\n    </tr>\n  </tbody>\n</table>\n<p>607 rows × 9 columns</p>\n</div>"
     },
     "execution_count": 14,
     "metadata": {},
     "output_type": "execute_result"
    }
   ],
   "source": [
    "# Import Data\n",
    "\n",
    "salaries = pd.read_csv('../data/ds_salaries_clean.csv')\n",
    "\n",
    "# add Job category to the above dataframe\n",
    "\n",
    "Job_Category = ['Machine Learning', 'Data Engineering', 'Data Analytics', 'Machine Learning', 'Data Analytics', 'Data Science', 'Data Science', 'Data Analytics', 'Data Engineering', 'Data Science', 'Data Science', 'Data Analytics', 'Data Analytics', 'Data Engineering', 'Data Engineering', 'Data Analytics', 'Data Science', 'Data Engineering', 'Data Analytics', 'Machine Learning', 'Data Engineering', 'Data Science', 'Other', 'Data Analytics', 'Data Engineering', 'Machine Learning', 'Machine Learning', 'Data Engineering', 'Data Engineering', 'Data Science', 'Data Science', 'Data Engineering', 'Data Analytics', 'Data Engineering', 'Data Science', 'Data Science', 'Data Science', 'Data Science', 'Data Engineering', 'Data Science', 'Machine Learning', 'Data Science', 'Managerial', 'Data Science', 'Data Science', 'Data Science', 'Data Analytics', 'Managerial', 'Other', 'Data Analytics', 'Data Engineering', 'Data Science', 'Machine Learning', 'Data Engineering', 'Data Analytics', 'Data Analytics', 'Data Analytics', 'Other', 'Data Analytics', 'Data Engineering', 'Machine Learning', 'Data Analytics', 'Other', 'Other', 'Data Engineering', 'Data Analytics', 'Data Analytics', 'Other', 'Data Engineering', 'Data Engineering', 'Data Engineering', 'Data Engineering', 'Machine Learning', 'Machine Learning', 'Data Science', 'Other', 'Data Analytics', 'Data Engineering', 'Data Engineering', 'Data Analytics', 'Data Science', 'Data Analytics', 'Data Science', 'Machine Learning', 'Data Science', 'Data Science', 'Data Science', 'Machine Learning', 'Machine Learning', 'Data Science', 'Data Science', 'Data Engineering', 'Data Science', 'Machine Learning', 'Other', 'Data Engineering', 'Data Engineering', 'Data Science', 'Data Science', 'Other', 'Machine Learning', 'Data Analytics', 'Machine Learning', 'Managerial', 'Other', 'Managerial', 'Data Engineering', 'Managerial', 'Data Engineering', 'Data Analytics', 'Data Science', 'Other', 'Data Science', 'Machine Learning', 'Data Science', 'Data Science', 'Data Analytics', 'Machine Learning', 'Data Engineering', 'Data Analytics', 'Other', 'Machine Learning', 'Data Engineering', 'Managerial', 'Other', 'Data Analytics', 'Machine Learning', 'Other', 'Data Engineering', 'Data Science', 'Other', 'Data Science', 'Data Science', 'Machine Learning', 'Data Engineering', 'Other', 'Data Engineering', 'Data Engineering', 'Machine Learning', 'Data Engineering', 'Data Science', 'Machine Learning', 'Data Analytics', 'Data Science', 'Data Science', 'Data Science', 'Machine Learning', 'Data Science', 'Data Science', 'Data Analytics', 'Data Engineering', 'Data Analytics', 'Other', 'Data Science', 'Data Science', 'Data Engineering', 'Data Analytics', 'Data Science', 'Machine Learning', 'Data Engineering', 'Data Science', 'Data Engineering', 'Data Analytics', 'Data Science', 'Data Science', 'Data Analytics', 'Data Engineering', 'Data Science', 'Machine Learning', 'Managerial', 'Data Analytics', 'Data Science', 'Machine Learning', 'Data Engineering', 'Data Engineering', 'Data Engineering', 'Data Engineering', 'Other', 'Other', 'Data Science', 'Data Science', 'Machine Learning', 'Data Science', 'Data Analytics', 'Other', 'Data Science', 'Other', 'Data Science', 'Data Engineering', 'Data Analytics', 'Data Science', 'Data Science', 'Data Engineering', 'Data Analytics', 'Data Analytics', 'Data Science', 'Data Science', 'Data Science', 'Data Science', 'Data Science', 'Data Analytics', 'Data Analytics', 'Data Engineering', 'Data Science', 'Data Engineering', 'Data Engineering', 'Data Engineering', 'Data Science', 'Data Analytics', 'Data Engineering', 'Data Engineering', 'Data Engineering', 'Data Analytics', 'Data Analytics', 'Data Analytics', 'Data Analytics', 'Data Analytics', 'Data Analytics', 'Data Engineering', 'Data Engineering', 'Data Engineering', 'Data Analytics', 'Data Engineering', 'Managerial', 'Data Analytics', 'Data Engineering', 'Data Science', 'Data Engineering', 'Data Analytics', 'Managerial', 'Data Science', 'Data Engineering', 'Data Engineering', 'Data Science', 'Data Engineering', 'Data Engineering', 'Data Analytics', 'Data Analytics', 'Data Science', 'Data Engineering', 'Data Analytics', 'Data Analytics', 'Data Science', 'Machine Learning', 'Machine Learning', 'Data Engineering', 'Data Engineering', 'Data Engineering', 'Data Engineering', 'Data Analytics', 'Data Analytics', 'Machine Learning', 'Data Engineering', 'Machine Learning', 'Data Analytics', 'Data Engineering', 'Machine Learning', 'Machine Learning', 'Data Analytics', 'Data Analytics', 'Data Analytics', 'Data Analytics', 'Data Engineering', 'Data Science', 'Data Engineering', 'Data Analytics', 'Data Analytics', 'Data Engineering', 'Data Analytics', 'Data Engineering', 'Data Analytics', 'Data Science', 'Data Science', 'Data Engineering', 'Data Engineering', 'Data Engineering', 'Other', 'Machine Learning', 'Managerial', 'Managerial', 'Data Science', 'Data Engineering', 'Data Engineering', 'Data Science', 'Data Analytics', 'Data Analytics', 'Data Engineering', 'Data Engineering', 'Data Engineering', 'Machine Learning', 'Machine Learning', 'Data Engineering', 'Data Science', 'Data Engineering', 'Data Engineering', 'Data Engineering', 'Data Engineering', 'Machine Learning', 'Machine Learning', 'Managerial', 'Machine Learning', 'Other', 'Data Science', 'Machine Learning', 'Data Analytics', 'Data Science', 'Data Analytics', 'Data Science', 'Data Science', 'Other', 'Data Science', 'Data Science', 'Data Analytics', 'Data Science', 'Data Science', 'Data Science', 'Data Science', 'Machine Learning', 'Data Science', 'Data Science', 'Machine Learning', 'Data Engineering', 'Machine Learning', 'Data Science', 'Data Science', 'Machine Learning', 'Data Analytics', 'Data Science', 'Machine Learning', 'Data Engineering', 'Data Science', 'Other', 'Data Science', 'Managerial', 'Data Science', 'Machine Learning', 'Data Science', 'Other', 'Other', 'Data Science', 'Data Analytics', 'Data Engineering', 'Data Analytics', 'Data Science', 'Managerial', 'Data Science', 'Data Science', 'Other', 'Data Analytics', 'Machine Learning', 'Data Engineering', 'Data Engineering', 'Data Analytics', 'Data Engineering', 'Data Science', 'Data Science', 'Data Analytics', 'Data Engineering', 'Data Engineering', 'Data Engineering', 'Data Engineering', 'Data Engineering', 'Data Analytics', 'Data Engineering', 'Data Science', 'Data Science', 'Data Engineering', 'Data Engineering', 'Data Engineering', 'Data Science', 'Data Analytics', 'Data Engineering', 'Data Engineering', 'Data Engineering', 'Data Analytics', 'Data Analytics', 'Data Science', 'Data Science', 'Data Analytics', 'Data Science', 'Data Analytics', 'Data Engineering', 'Data Engineering', 'Data Analytics', 'Data Engineering', 'Data Engineering', 'Data Analytics', 'Data Analytics', 'Data Science', 'Data Engineering', 'Data Science', 'Data Science', 'Data Analytics', 'Data Science', 'Data Analytics', 'Data Science', 'Data Analytics', 'Data Engineering', 'Data Engineering', 'Data Analytics', 'Data Analytics', 'Machine Learning', 'Data Analytics', 'Managerial', 'Other', 'Data Analytics', 'Data Engineering', 'Data Science', 'Machine Learning', 'Data Engineering', 'Data Analytics', 'Data Analytics', 'Data Analytics', 'Other', 'Data Analytics', 'Data Engineering', 'Machine Learning', 'Data Analytics', 'Other', 'Other', 'Data Engineering', 'Data Analytics', 'Data Analytics', 'Other', 'Data Engineering', 'Data Engineering', 'Data Engineering', 'Data Engineering', 'Machine Learning', 'Machine Learning', 'Data Science', 'Other', 'Data Analytics', 'Data Engineering', 'Data Engineering', 'Data Analytics', 'Data Science', 'Data Analytics', 'Data Science', 'Machine Learning', 'Data Science', 'Data Science', 'Data Science', 'Machine Learning', 'Machine Learning', 'Data Science', 'Data Science', 'Data Engineering', 'Data Science', 'Machine Learning', 'Other', 'Data Engineering', 'Data Engineering', 'Data Science', 'Data Science', 'Other', 'Machine Learning', 'Data Analytics', 'Machine Learning', 'Managerial', 'Other', 'Managerial', 'Data Engineering', 'Managerial', 'Data Engineering', 'Data Analytics', 'Data Science', 'Other', 'Data Science', 'Machine Learning', 'Data Science', 'Data Science',  'Data Analytics', 'Data Science', 'Data Science', 'Data Analytics', 'Data Engineering', 'Data Science', 'Machine Learning', 'Managerial', 'Data Analytics', 'Data Science', 'Machine Learning', 'Data Engineering', 'Data Engineering', 'Data Engineering', 'Data Engineering', 'Other', 'Other', 'Data Science', 'Data Science', 'Machine Learning', 'Data Science', 'Data Analytics', 'Other', 'Data Science', 'Other', 'Data Science', 'Data Engineering', 'Data Analytics', 'Data Science', 'Data Science', 'Data Engineering', 'Data Analytics', 'Data Analytics', 'Data Science', 'Data Science', 'Data Science', 'Data Science', 'Data Science', 'Data Analytics', 'Data Analytics', 'Data Engineering', 'Data Science', 'Data Engineering', 'Data Engineering', 'Data Engineering', 'Data Science', 'Data Analytics', 'Data Engineering', 'Data Engineering', 'Data Engineering', 'Data Analytics', 'Data Analytics', 'Data Analytics', 'Data Analytics', 'Data Analytics', 'Data Analytics', 'Data Engineering', 'Data Engineering', 'Data Engineering', 'Data Analytics', 'Data Engineering', 'Managerial', 'Data Analytics', 'Data Engineering', 'Data Engineering', 'Data Engineering', 'Data Analytics', 'Data Analytics', 'Machine Learning', 'Data Engineering', 'Machine Learning', 'Data Analytics', 'Data Engineering', 'Machine Learning', 'Machine Learning', 'Data Analytics', 'Data Analytics', 'Data Analytics', 'Data Analytics', 'Data Engineering', 'Data Science', 'Data Engineering', 'Data Analytics', 'Data Analytics', 'Data Engineering', 'Data Analytics', 'Data Engineering', 'Data Analytics', 'Data Science', 'Data Science', 'Data Engineering', 'Data Engineering', 'Data Engineering', 'Other', 'Machine Learning', 'Managerial', 'Managerial', 'Data Science', 'Data Engineering', 'Data Engineering', 'Data Science', 'Data Analytics', 'Data Analytics', 'Data Engineering', 'Data Engineering', 'Data Engineering', 'Machine Learning', 'Machine Learning', 'Data Engineering', 'Data Science', 'Data Engineering', 'Data Engineering', 'Data Engineering', 'Data Engineering', 'Machine Learning', 'Machine Learning', 'Managerial', 'Machine Learning', 'Other', 'Data Science', 'Machine Learning', 'Data Analytics', 'Data Science', 'Data Analytics', 'Data Science', 'Data Science', 'Other', 'Data Science', 'Data Science', 'Data Analytics', 'Data Science', 'Data Science', 'Data Science', 'Data Science', 'Machine Learning']\n",
    "\n",
    "#len(Job_Category)\n",
    "\n",
    "salaries['Job_Category'] = Job_Category\n",
    "salaries\n"
   ],
   "metadata": {
    "collapsed": false,
    "ExecuteTime": {
     "end_time": "2025-03-02T01:14:19.123787700Z",
     "start_time": "2025-03-02T01:14:18.956942700Z"
    }
   },
   "id": "b1878fb434cd18aa",
   "execution_count": 14
  },
  {
   "cell_type": "markdown",
   "source": [
    "## Consideration for Categorical Data"
   ],
   "metadata": {
    "collapsed": false
   },
   "id": "1719fb61c35733"
  },
  {
   "cell_type": "markdown",
   "source": [
    "### Checking for class imbalance"
   ],
   "metadata": {
    "collapsed": false
   },
   "id": "343fd986d9a8748b"
  },
  {
   "cell_type": "code",
   "outputs": [
    {
     "name": "stdout",
     "output_type": "stream",
     "text": [
      "Job_Category\n",
      "Data Engineering    0.273476\n",
      "Data Science        0.265239\n",
      "Data Analytics      0.225700\n",
      "Machine Learning    0.123558\n",
      "Other               0.074135\n",
      "Managerial          0.037891\n",
      "Name: proportion, dtype: float64\n"
     ]
    }
   ],
   "source": [
    "# Print the relative frequency of the \"Job_Category\" column from salaries DataFrame.\n",
    "print(salaries['Job_Category'].value_counts(normalize=True))"
   ],
   "metadata": {
    "collapsed": false,
    "ExecuteTime": {
     "end_time": "2025-03-02T01:15:14.263523600Z",
     "start_time": "2025-03-02T01:15:14.134393200Z"
    }
   },
   "id": "2b17cf0f3a205b19",
   "execution_count": 16
  },
  {
   "cell_type": "markdown",
   "source": [
    "### Cross-tabulation"
   ],
   "metadata": {
    "collapsed": false
   },
   "id": "f60eaf9de2137b8e"
  },
  {
   "cell_type": "markdown",
   "source": [
    "Cross-tabulation can help identify how observations occur in combination.\n",
    "Using the salaries dataset, which has been imported as a pandas DataFrame, you'll perform cross-tabulation on multiple variables, including the use of aggregation, to see the relationship between \"Company_Size\" and other variables."
   ],
   "metadata": {
    "collapsed": false
   },
   "id": "349196bfdf9a4bcf"
  },
  {
   "cell_type": "code",
   "outputs": [
    {
     "data": {
      "text/plain": "Experience    Entry  Executive  Mid  Senior\nCompany_Size                               \nL                29         11   86      72\nM                30         12   98     186\nS                29          3   29      22",
      "text/html": "<div>\n<style scoped>\n    .dataframe tbody tr th:only-of-type {\n        vertical-align: middle;\n    }\n\n    .dataframe tbody tr th {\n        vertical-align: top;\n    }\n\n    .dataframe thead th {\n        text-align: right;\n    }\n</style>\n<table border=\"1\" class=\"dataframe\">\n  <thead>\n    <tr style=\"text-align: right;\">\n      <th>Experience</th>\n      <th>Entry</th>\n      <th>Executive</th>\n      <th>Mid</th>\n      <th>Senior</th>\n    </tr>\n    <tr>\n      <th>Company_Size</th>\n      <th></th>\n      <th></th>\n      <th></th>\n      <th></th>\n    </tr>\n  </thead>\n  <tbody>\n    <tr>\n      <th>L</th>\n      <td>29</td>\n      <td>11</td>\n      <td>86</td>\n      <td>72</td>\n    </tr>\n    <tr>\n      <th>M</th>\n      <td>30</td>\n      <td>12</td>\n      <td>98</td>\n      <td>186</td>\n    </tr>\n    <tr>\n      <th>S</th>\n      <td>29</td>\n      <td>3</td>\n      <td>29</td>\n      <td>22</td>\n    </tr>\n  </tbody>\n</table>\n</div>"
     },
     "execution_count": 17,
     "metadata": {},
     "output_type": "execute_result"
    }
   ],
   "source": [
    "# Cross-tabulate Company_Size and Experience\n",
    "pd.crosstab(salaries['Company_Size'], salaries['Experience'])"
   ],
   "metadata": {
    "collapsed": false,
    "ExecuteTime": {
     "end_time": "2025-03-02T01:18:46.052776200Z",
     "start_time": "2025-03-02T01:18:45.373164900Z"
    }
   },
   "id": "e9226cea287bd240",
   "execution_count": 17
  },
  {
   "cell_type": "code",
   "outputs": [
    {
     "name": "stdout",
     "output_type": "stream",
     "text": [
      "Company_Size       L   M   S\n",
      "Job_Category                \n",
      "Data Analytics    51  73  13\n",
      "Data Engineering  45  87  34\n",
      "Data Science      58  83  20\n",
      "Machine Learning  22  43  10\n",
      "Managerial        10  12   1\n",
      "Other             12  28   5\n"
     ]
    }
   ],
   "source": [
    "# Cross-tabulate Job_Category and Company_Size\n",
    "print(pd.crosstab(salaries[\"Job_Category\"], salaries[\"Company_Size\"]))"
   ],
   "metadata": {
    "collapsed": false,
    "ExecuteTime": {
     "end_time": "2025-03-02T01:20:35.852063400Z",
     "start_time": "2025-03-02T01:20:35.736184600Z"
    }
   },
   "id": "30f2a47bd7a4b73e",
   "execution_count": 18
  },
  {
   "cell_type": "code",
   "outputs": [
    {
     "name": "stdout",
     "output_type": "stream",
     "text": [
      "Company_Size                  L              M              S\n",
      "Job_Category                                                 \n",
      "Data Analytics    108975.196078  108194.027397   84155.384615\n",
      "Data Engineering  124636.333333  119589.586207   78888.470588\n",
      "Data Science      111568.482759  110971.963855   71077.200000\n",
      "Machine Learning  137133.181818  114244.767442   55093.100000\n",
      "Managerial         79127.100000   91011.000000  109806.000000\n",
      "Other              91516.583333  102573.892857   58795.000000\n"
     ]
    }
   ],
   "source": [
    "# Update pd.crosstab() to return the mean \"Salary_USD\" values.\n",
    "print(pd.crosstab(salaries[\"Job_Category\"], salaries[\"Company_Size\"], values=salaries[\"Salary_USD\"], aggfunc='mean'))"
   ],
   "metadata": {
    "collapsed": false,
    "ExecuteTime": {
     "end_time": "2025-03-02T01:23:04.178481400Z",
     "start_time": "2025-03-02T01:23:04.051274900Z"
    }
   },
   "id": "ed7d05a5612f7df9",
   "execution_count": 19
  },
  {
   "cell_type": "markdown",
   "source": [
    "## Generating New Features"
   ],
   "metadata": {
    "collapsed": false
   },
   "id": "12d7e2574c886d18"
  },
  {
   "cell_type": "markdown",
   "source": [
    "### Extracting features for correlation"
   ],
   "metadata": {
    "collapsed": false
   },
   "id": "735ea34ed15baf54"
  },
  {
   "cell_type": "markdown",
   "source": [
    "## Generating Hypothesis"
   ],
   "metadata": {
    "collapsed": false
   },
   "id": "cabb604b524d6531"
  }
 ],
 "metadata": {
  "kernelspec": {
   "display_name": "Python 3",
   "language": "python",
   "name": "python3"
  },
  "language_info": {
   "codemirror_mode": {
    "name": "ipython",
    "version": 2
   },
   "file_extension": ".py",
   "mimetype": "text/x-python",
   "name": "python",
   "nbconvert_exporter": "python",
   "pygments_lexer": "ipython2",
   "version": "2.7.6"
  }
 },
 "nbformat": 4,
 "nbformat_minor": 5
}
