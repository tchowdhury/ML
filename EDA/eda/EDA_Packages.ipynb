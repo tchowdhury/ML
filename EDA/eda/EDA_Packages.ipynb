{
 "cells": [
  {
   "cell_type": "markdown",
   "source": [
    "This notebook deals with different EDA packages \n",
    "\n",
    "<b>References</b>\n",
    "--[Non-Brand Data](https://www.nb-data.com/p/python-packages-for-automated-eda)--"
   ],
   "metadata": {
    "collapsed": false
   },
   "id": "c3122852e193ba79"
  },
  {
   "cell_type": "markdown",
   "source": [
    "## Data Preparation"
   ],
   "metadata": {
    "collapsed": false
   },
   "id": "5b5d66d961473211"
  },
  {
   "cell_type": "code",
   "outputs": [
    {
     "data": {
      "text/plain": "    mpg  cylinders  displacement  horsepower  weight  acceleration  \\\n0  18.0          8         307.0       130.0    3504          12.0   \n1  15.0          8         350.0       165.0    3693          11.5   \n2  18.0          8         318.0       150.0    3436          11.0   \n3  16.0          8         304.0       150.0    3433          12.0   \n4  17.0          8         302.0       140.0    3449          10.5   \n\n   model_year origin                       name  \n0          70    usa  chevrolet chevelle malibu  \n1          70    usa          buick skylark 320  \n2          70    usa         plymouth satellite  \n3          70    usa              amc rebel sst  \n4          70    usa                ford torino  ",
      "text/html": "<div>\n<style scoped>\n    .dataframe tbody tr th:only-of-type {\n        vertical-align: middle;\n    }\n\n    .dataframe tbody tr th {\n        vertical-align: top;\n    }\n\n    .dataframe thead th {\n        text-align: right;\n    }\n</style>\n<table border=\"1\" class=\"dataframe\">\n  <thead>\n    <tr style=\"text-align: right;\">\n      <th></th>\n      <th>mpg</th>\n      <th>cylinders</th>\n      <th>displacement</th>\n      <th>horsepower</th>\n      <th>weight</th>\n      <th>acceleration</th>\n      <th>model_year</th>\n      <th>origin</th>\n      <th>name</th>\n    </tr>\n  </thead>\n  <tbody>\n    <tr>\n      <th>0</th>\n      <td>18.0</td>\n      <td>8</td>\n      <td>307.0</td>\n      <td>130.0</td>\n      <td>3504</td>\n      <td>12.0</td>\n      <td>70</td>\n      <td>usa</td>\n      <td>chevrolet chevelle malibu</td>\n    </tr>\n    <tr>\n      <th>1</th>\n      <td>15.0</td>\n      <td>8</td>\n      <td>350.0</td>\n      <td>165.0</td>\n      <td>3693</td>\n      <td>11.5</td>\n      <td>70</td>\n      <td>usa</td>\n      <td>buick skylark 320</td>\n    </tr>\n    <tr>\n      <th>2</th>\n      <td>18.0</td>\n      <td>8</td>\n      <td>318.0</td>\n      <td>150.0</td>\n      <td>3436</td>\n      <td>11.0</td>\n      <td>70</td>\n      <td>usa</td>\n      <td>plymouth satellite</td>\n    </tr>\n    <tr>\n      <th>3</th>\n      <td>16.0</td>\n      <td>8</td>\n      <td>304.0</td>\n      <td>150.0</td>\n      <td>3433</td>\n      <td>12.0</td>\n      <td>70</td>\n      <td>usa</td>\n      <td>amc rebel sst</td>\n    </tr>\n    <tr>\n      <th>4</th>\n      <td>17.0</td>\n      <td>8</td>\n      <td>302.0</td>\n      <td>140.0</td>\n      <td>3449</td>\n      <td>10.5</td>\n      <td>70</td>\n      <td>usa</td>\n      <td>ford torino</td>\n    </tr>\n  </tbody>\n</table>\n</div>"
     },
     "execution_count": 1,
     "metadata": {},
     "output_type": "execute_result"
    }
   ],
   "source": [
    "import seaborn as sns\n",
    "\n",
    "mpg = sns.load_dataset('mpg')\n",
    "mpg.head()"
   ],
   "metadata": {
    "collapsed": false,
    "ExecuteTime": {
     "end_time": "2025-02-25T00:30:53.990674700Z",
     "start_time": "2025-02-25T00:30:53.334184800Z"
    }
   },
   "id": "1593cc06efb92aa9",
   "execution_count": 1
  },
  {
   "cell_type": "markdown",
   "source": [
    "### summarytools"
   ],
   "metadata": {
    "collapsed": false
   },
   "id": "39723413056bd437"
  },
  {
   "cell_type": "code",
   "outputs": [
    {
     "data": {
      "text/plain": "<pandas.io.formats.style.Styler at 0x2a54bebd6a0>",
      "text/html": "<style type=\"text/css\">\n#T_8a9ef thead>tr>th {\n  text-align: left;\n}\n#T_8a9ef_row0_col0, #T_8a9ef_row1_col0, #T_8a9ef_row2_col0, #T_8a9ef_row3_col0, #T_8a9ef_row4_col0, #T_8a9ef_row5_col0, #T_8a9ef_row6_col0, #T_8a9ef_row7_col0, #T_8a9ef_row8_col0 {\n  text-align: left;\n  font-size: 12px;\n  vertical-align: middle;\n  width: 5%;\n  max-width: 50px;\n  min-width: 20px;\n}\n#T_8a9ef_row0_col1, #T_8a9ef_row1_col1, #T_8a9ef_row2_col1, #T_8a9ef_row3_col1, #T_8a9ef_row4_col1, #T_8a9ef_row5_col1, #T_8a9ef_row6_col1, #T_8a9ef_row7_col1, #T_8a9ef_row8_col1 {\n  text-align: left;\n  font-size: 12px;\n  vertical-align: middle;\n  width: 15%;\n  max-width: 200px;\n  min-width: 100px;\n  word-break: break-word;\n}\n#T_8a9ef_row0_col2, #T_8a9ef_row1_col2, #T_8a9ef_row2_col2, #T_8a9ef_row3_col2, #T_8a9ef_row4_col2, #T_8a9ef_row5_col2, #T_8a9ef_row6_col2, #T_8a9ef_row7_col2, #T_8a9ef_row8_col2 {\n  text-align: left;\n  font-size: 12px;\n  vertical-align: middle;\n  width: 30%;\n  min-width: 100px;\n}\n#T_8a9ef_row0_col3, #T_8a9ef_row1_col3, #T_8a9ef_row2_col3, #T_8a9ef_row3_col3, #T_8a9ef_row4_col3, #T_8a9ef_row5_col3, #T_8a9ef_row6_col3, #T_8a9ef_row7_col3, #T_8a9ef_row8_col3 {\n  text-align: left;\n  font-size: 12px;\n  vertical-align: middle;\n  width: 25%;\n  min-width: 100px;\n}\n#T_8a9ef_row0_col4, #T_8a9ef_row1_col4, #T_8a9ef_row2_col4, #T_8a9ef_row3_col4, #T_8a9ef_row4_col4, #T_8a9ef_row5_col4, #T_8a9ef_row6_col4, #T_8a9ef_row7_col4, #T_8a9ef_row8_col4 {\n  text-align: left;\n  font-size: 12px;\n  vertical-align: middle;\n  width: 20%;\n  min-width: 150px;\n}\n#T_8a9ef_row0_col5, #T_8a9ef_row1_col5, #T_8a9ef_row2_col5, #T_8a9ef_row3_col5, #T_8a9ef_row4_col5, #T_8a9ef_row5_col5, #T_8a9ef_row6_col5, #T_8a9ef_row7_col5, #T_8a9ef_row8_col5 {\n  text-align: left;\n  font-size: 12px;\n  vertical-align: middle;\n  width: 10%;\n}\n</style>\n<table id=\"T_8a9ef\">\n  <caption><strong>Data Frame Summary</strong><br>mpg<br>Dimensions: 398 x 9<br>Duplicates: 0</caption>\n  <thead>\n    <tr>\n      <th id=\"T_8a9ef_level0_col0\" class=\"col_heading level0 col0\" >No</th>\n      <th id=\"T_8a9ef_level0_col1\" class=\"col_heading level0 col1\" >Variable</th>\n      <th id=\"T_8a9ef_level0_col2\" class=\"col_heading level0 col2\" >Stats / Values</th>\n      <th id=\"T_8a9ef_level0_col3\" class=\"col_heading level0 col3\" >Freqs / (% of Valid)</th>\n      <th id=\"T_8a9ef_level0_col4\" class=\"col_heading level0 col4\" >Graph</th>\n      <th id=\"T_8a9ef_level0_col5\" class=\"col_heading level0 col5\" >Missing</th>\n    </tr>\n  </thead>\n  <tbody>\n    <tr>\n      <td id=\"T_8a9ef_row0_col0\" class=\"data row0 col0\" >1</td>\n      <td id=\"T_8a9ef_row0_col1\" class=\"data row0 col1\" ><strong>mpg</strong><br>[float64]</td>\n      <td id=\"T_8a9ef_row0_col2\" class=\"data row0 col2\" >Mean (sd) : 23.5 (7.8)<br>min < med < max:<br>9.0 < 23.0 < 46.6<br>IQR (CV) : 11.5 (3.0)</td>\n      <td id=\"T_8a9ef_row0_col3\" class=\"data row0 col3\" >129 distinct values</td>\n      <td id=\"T_8a9ef_row0_col4\" class=\"data row0 col4\" ><img src = \"data:image/png;base64, iVBORw0KGgoAAAANSUhEUgAAAKoAAABGCAYAAABc8A97AAAAOnRFWHRTb2Z0d2FyZQBNYXRwbG90bGliIHZlcnNpb24zLjEwLjAsIGh0dHBzOi8vbWF0cGxvdGxpYi5vcmcvlHJYcgAAAAlwSFlzAAAPYQAAD2EBqD+naQAAAq5JREFUeJzt3LGO2jAYwHG7cKcUpEQQBBsvcFIHJJY8QMd72D5CB4bOvAEbEkIgUhAhpHKlm8oVktg9f+7/t5sy/JXjs53qqqoU4LtPH/0FgEd0lUNa689KqecWH3Guqupo8StBqK7LSNM0fY3jeND0M/b7/VZr/Y1Y4fKJ+mwizbLsmCTJqe7i3W4XLRaLwWazMU9kQv3POf3Tb5hIx+Pxz4bLzU8HgGEKMjh/orZRluWTUirWWjdZziAWEG9DzfP8qSiKL9PptNPpdGr/xmUQC4u3oZ7P524URb3ZbHaaTCbbOmsZxMLjbahv+v1+02GMQSwgDFMQgVAhAqFCBEKFCIQKEQgVIni/PfVBp1oGJ1seCTLUtqdaBidbfgky1DanWgYnW/4JMlQLp1oGJ1seYZiCCIQKEYL+098Gd2H9Qqg3cBfWP4R6A3dh/UOof8FdWH8wTEEEnqgOMIjZR6iWMYi5QaiWMYi5QaiOMIjZxTAFEQgVIhAqRCBUiECoEIGp3zO863UboXqEd73eR6ge4V2v9xGqh3jX608MUxCBUCECoUIEQoUIhAoRCBUiECpEIFSIQKgQgZOpwJSBvgFLqAHJA34DllADcg74DVhCDVA/wDdgGaYgAqFCBEKFCIQKEe4OU1pr8wPbTIJ1xdfr1ezpAW5DNZGmafoax/Gg7gcXRRGVZflyOp2+K6WavlYBPPREfTaRZll2TJKk1gbyarUaLJfL3uVy6dRZBzTeRzWR1t2X22633u7JQR6GKYhAqBCBI1RY02KH6O7NLUKFrSuC0XA4/JokSb/J4ns3twgVVq4Imu1IpdTLfD7/MRqN9rZvbhEqrPy/V2/bkVEUFS5ubhEqrFwRdL0d2X300Vz3gw+Hw+81eZ5H6/W69y/XS/23pX5v1XL9I339Al5/wl8Xp3TRAAAAAElFTkSuQmCC\"></img></td>\n      <td id=\"T_8a9ef_row0_col5\" class=\"data row0 col5\" >0<br>(0.0%)</td>\n    </tr>\n    <tr>\n      <td id=\"T_8a9ef_row1_col0\" class=\"data row1 col0\" >2</td>\n      <td id=\"T_8a9ef_row1_col1\" class=\"data row1 col1\" ><strong>cylinders</strong><br>[int64]</td>\n      <td id=\"T_8a9ef_row1_col2\" class=\"data row1 col2\" >1. 4<br>2. 8<br>3. 6<br>4. 3<br>5. 5</td>\n      <td id=\"T_8a9ef_row1_col3\" class=\"data row1 col3\" >204 (51.3%)<br>103 (25.9%)<br>84 (21.1%)<br>4 (1.0%)<br>3 (0.8%)</td>\n      <td id=\"T_8a9ef_row1_col4\" class=\"data row1 col4\" ><img src = \"data:image/png;base64, iVBORw0KGgoAAAANSUhEUgAAAJsAAABzCAYAAACPdnBjAAAAOnRFWHRTb2Z0d2FyZQBNYXRwbG90bGliIHZlcnNpb24zLjEwLjAsIGh0dHBzOi8vbWF0cGxvdGxpYi5vcmcvlHJYcgAAAAlwSFlzAAAPYQAAD2EBqD+naQAAAlBJREFUeJzt3UGK2lAAxvEXkbZulEHwGB7AQ/SwPYQH8B4y6KJpu0l5MJvulI5fkpffb1FmMyjDH2PC+2g3DEOBhFXkVUBsJImNmK6UsimlfMm9ZFP+DMPQj/0m5mK93++/b7fbt7HfyBzd7/f3rut+CO4x6xra6XTqd7vdrwd/h1LK7Xb7dj6f367Xa70qiO0B6/pPDe1wOPx85Bf4R/0KwoPcIBAjNmLERozYiBEbMWIjRmzEiI0YsREjNmLERozYiBEb2VMf9bhM7iXb4G/2vHU9AFjPZTku87z6t6undcd+H3PhWPj/cSz8CZ3dKCluEIiZw2XUpaoRk19XWTC1Y9LrKgumtsxhXeWRTCPcIBAjNmLERozYiBEbMWIjRmzEiI0YsREjNmLERozYiBEbMZNeV031fdHousqCqR2OhRNjXUWMGwQWdxl1qVyASayrLKiWYfR1lQXVckxlXTXJxy58LjcIxIiNGLERIzZixEaM2IgRGzFiI0ZsxIiNGLERIzZixMZy1lUWVMsxiXWVBdUyOBZOjHUVo3yy+XQhM3gxOuHVVjW04/FYPhZWY393o/XnbJvN5vfYb4T2eahLjNiIERsxYiNGbMSIjRixESM2YsRGjNiIERsxYiNGbMSIjWxsfd9/zb0kS7WqJ3Qvl4uFEy9ng0CMdRXxT7biU43Iuqr+YFlFZF1lWUWC52zEiI0YsREjNmLERozYiBEbMWIjRmzEiI0YsREjNmLERozYiBEbMWIj+39XffxsWcVL2SAQY11FjO9sxIiNkvIXXrPfL84YK1kAAAAASUVORK5CYII=\"></img></td>\n      <td id=\"T_8a9ef_row1_col5\" class=\"data row1 col5\" >0<br>(0.0%)</td>\n    </tr>\n    <tr>\n      <td id=\"T_8a9ef_row2_col0\" class=\"data row2 col0\" >3</td>\n      <td id=\"T_8a9ef_row2_col1\" class=\"data row2 col1\" ><strong>displacement</strong><br>[float64]</td>\n      <td id=\"T_8a9ef_row2_col2\" class=\"data row2 col2\" >Mean (sd) : 193.4 (104.3)<br>min < med < max:<br>68.0 < 148.5 < 455.0<br>IQR (CV) : 157.8 (1.9)</td>\n      <td id=\"T_8a9ef_row2_col3\" class=\"data row2 col3\" >82 distinct values</td>\n      <td id=\"T_8a9ef_row2_col4\" class=\"data row2 col4\" ><img src = \"data:image/png;base64, iVBORw0KGgoAAAANSUhEUgAAAKoAAABGCAYAAABc8A97AAAAOnRFWHRTb2Z0d2FyZQBNYXRwbG90bGliIHZlcnNpb24zLjEwLjAsIGh0dHBzOi8vbWF0cGxvdGxpYi5vcmcvlHJYcgAAAAlwSFlzAAAPYQAAD2EBqD+naQAAAo9JREFUeJzt3cGOmkAcgPGZsruh0qDGRG9ePWzSg0cfog/bR+jBJ/DqyRtRCUa6LIg0s0lvm1Zgcec/fL/z4hryBWFmwuiqqhRguy+f/QWAWzz87w+01l+VUk+qmbyqqpeGxwK3hWoinUwmP8IwHKsGTqdTrLX+Sazo+or6ZCJdrVYvw+Ewq/PBSZL46/V6fDgczNWYUNHtT79hIp1Op78bfL65bQBa42EKIhAqRCBUiECoEIFQIQKhQgRChQiECncG/Jsqy/JRKRVqrZt+BGsF0G2oaZo+FkXxfT6fe57n1Zp+/Yu1Aug81DzPH3zfHyyXy2w2m8V1j2etAO72028EQdB0nYDBWgG84WEKIhAqRCBUiECoEIFQIQKhQgRChQiEChEIFSIQKkQgVIhAqBCBUCECoUIEQoUIna9HlYrXbdqFUN/B6zbtQ6jv43WbliHUf+B1m/bgYQoiECpEIFSIQKgQgVAhAqFCBIan3JoRc3ZWjFAdmhFzeVaMUB2ZEXN9VoxQ3ZoRc3ZWjIcpiECoEIFQIYLV96gt9wBwcpimr+fM2lDb7gHg6jBNX8+ZtaG22QPA5WGavp4za0P9gD0AnBym6es542EKIhAqRCBUiECoEIFQIYL1T/24H5s3WSZUiNhk2dlQW14dwuv1ao7vjdzyTZadDLXt1aEoCr8sy+csy34ppZquCxUpsHSTZSdDbXt12O12481mM7hcLl4339BNZYcLYpwMte3VIY5ja6cS+7ogxulQ4c6CGEKFiAUxhGrXvVrvRhtuRagW3av1ebThQ0I19xCqpvP5/HZMmqZ+FEWDex7/mf/7eDx+M/dqi8VCj0aj1zrH7vd7f7vdDpIkCaIoyvtyzpIb+voDXOG8xJmoUJIAAAAASUVORK5CYII=\"></img></td>\n      <td id=\"T_8a9ef_row2_col5\" class=\"data row2 col5\" >0<br>(0.0%)</td>\n    </tr>\n    <tr>\n      <td id=\"T_8a9ef_row3_col0\" class=\"data row3 col0\" >4</td>\n      <td id=\"T_8a9ef_row3_col1\" class=\"data row3 col1\" ><strong>horsepower</strong><br>[float64]</td>\n      <td id=\"T_8a9ef_row3_col2\" class=\"data row3 col2\" >Mean (sd) : 104.5 (38.5)<br>min < med < max:<br>46.0 < 93.5 < 230.0<br>IQR (CV) : 51.0 (2.7)</td>\n      <td id=\"T_8a9ef_row3_col3\" class=\"data row3 col3\" >93 distinct values</td>\n      <td id=\"T_8a9ef_row3_col4\" class=\"data row3 col4\" ><img src = \"data:image/png;base64, iVBORw0KGgoAAAANSUhEUgAAAKoAAABGCAYAAABc8A97AAAAOnRFWHRTb2Z0d2FyZQBNYXRwbG90bGliIHZlcnNpb24zLjEwLjAsIGh0dHBzOi8vbWF0cGxvdGxpYi5vcmcvlHJYcgAAAAlwSFlzAAAPYQAAD2EBqD+naQAAAnNJREFUeJzt3T+O2kAYh+GZ2BtNQMLij6DjAittgUTDAVLmsDlCCorU3IAOCVkgnEUY45VXSWowNsxv9D69hYtXozH+YGxZlgbw3Zdn3wBwjdh4zFr7zRjzteblp7Is3xu+JTxJ7HOkw+HwR6/X69e5fr/fp9ban8QaBm9DrVbSKtLFYvGeJMnxlgt3u51bLpf97XZbrcaEGgCfQ/1URToej//UuLTaNiAQPExBAqFCAqFCAqFCAqFCAqFCAqFCAqFCAqFCAqFCQuzx9FPvcrm8NHxLEBX7Ov2U57kriuL1eDz+MsbUedePgMQ+Tj9V1ut1f7Vadc7nc9TO7UFJ7Ov0U5qmTD/hPx6mIIFQIYFQIYFQIYFQIYFQIYFQIYFQIYFQIYFQIYFQIYFQIYFQIYFQIYFQIYFQIYFQIYFQIYFQIYFQIYFQIYFQIYFQIcH7U1EUcZBb8wi1YRzk1o5gQy2KovqDtZ611jx4ZeMgtxYEGWqWZS95nr9Np9MoiqKb//eqiZWNg9yaFWSop9Mpds51ZrPZcTKZpLdez8rmnyBD/afb7dZd1SqsbB7h6ylIIFRIIFRIIFRIIFSE8dR/x+tATjXBY0K953Ugp5rgkStq7deBnGqCh3/hX+d1IKeaoElBv5l60lALe/MWEGrDQy3szdtBqA0PtbA3bwehNjzU8uy9uQ301wWEGtbAtxsMBt+TJOmG9usCQg1o4DvPc2eMeZ3P579Ho9E+pBlcQg1o4Hv9d3/snMtD+3UBoQY08J0GvD8mVEjsjwkVEvtjQoXE/ji+tvhbP/VwOHxek2WZ22w2nUder/rZPty3uVOdz76mrw/iyYjFN9nLUQAAAABJRU5ErkJggg==\"></img></td>\n      <td id=\"T_8a9ef_row3_col5\" class=\"data row3 col5\" >6<br>(1.5%)</td>\n    </tr>\n    <tr>\n      <td id=\"T_8a9ef_row4_col0\" class=\"data row4 col0\" >5</td>\n      <td id=\"T_8a9ef_row4_col1\" class=\"data row4 col1\" ><strong>weight</strong><br>[int64]</td>\n      <td id=\"T_8a9ef_row4_col2\" class=\"data row4 col2\" >Mean (sd) : 2970.4 (846.8)<br>min < med < max:<br>1613.0 < 2803.5 < 5140.0<br>IQR (CV) : 1384.2 (3.5)</td>\n      <td id=\"T_8a9ef_row4_col3\" class=\"data row4 col3\" >351 distinct values</td>\n      <td id=\"T_8a9ef_row4_col4\" class=\"data row4 col4\" ><img src = \"data:image/png;base64, iVBORw0KGgoAAAANSUhEUgAAAKoAAABGCAYAAABc8A97AAAAOnRFWHRTb2Z0d2FyZQBNYXRwbG90bGliIHZlcnNpb24zLjEwLjAsIGh0dHBzOi8vbWF0cGxvdGxpYi5vcmcvlHJYcgAAAAlwSFlzAAAPYQAAD2EBqD+naQAAAoBJREFUeJzt3U+umkAAx/GZgoZqAjEmuvMCTbpw6SF62B6hC0/gDdyZGKKR94iINLykm+Y1Uf6U+Y3fzx5l8UVmhAFbVZUBXPdl6B0AHhGaHllrvxpjxi0+4lpV1XuHuwRRYZ+RzufzH3Ecz5p+xvl8Tq21P4kVff6ijutIN5vNe5Ik+bMbn06naLvdzo7HY/2LTKgvrtdTf62OdLFYvDXcvB46AEymoIFQIYFQIYFQIYFQIYFQIYFQIYFQIYFQIYFQIYFQIYFQIYFQIYFQIYFQIYFQIYFQIYFQIYFQIaH3NVNtlGU5MsbE1tomm7PU2iPOhppl2agoiu+r1SoIguDpVawstfaLs6Fer9cwiqLJer3Ol8tl+sy2LLX2j7Oh/jGdTpsut2aptUecD3Wg8W2NMa5DvAy17fi2xhjXLV6G2mZ8W2OM6x4vQ+1gfFtjjOsQ/vCHBEKFBEKFBEKFBEKFBEKFBK//nhpKy5dscEXsE4Tq2Es2uCL2OUJ16CUbXBH7N0Lt/qaW+H6/j5IkSbnrqzuE2vFNLUVRRGVZfsvz/JcxpunlW/yFUDu+qWW/3892u93kdrsFZgDW04kcoXZ8U0uapoOduq3HE7mwxyP0Y6zWbLfQ0NjXiVzY1xHKWG04SfO3JTo7kQv7OkKHHqu96BKa2NezWNjXETrkWO1Vl9AUHp/FmEx5tIRm7/FZjFA9WkKTenwW4+4pSCBUSCBUSCBUSGAyBYnHIBEqJB6DRKiQeAwSoULiMUhMpiCBUCGBUCGBUCGBUCGBWT8k3gtGqJB4LxihQuK9YIQKifeChY8W/+y3Xi6Xj22yLIsOh8Pkf26v+t2q+21abv9IX78B443Goh7j3fcAAAAASUVORK5CYII=\"></img></td>\n      <td id=\"T_8a9ef_row4_col5\" class=\"data row4 col5\" >0<br>(0.0%)</td>\n    </tr>\n    <tr>\n      <td id=\"T_8a9ef_row5_col0\" class=\"data row5 col0\" >6</td>\n      <td id=\"T_8a9ef_row5_col1\" class=\"data row5 col1\" ><strong>acceleration</strong><br>[float64]</td>\n      <td id=\"T_8a9ef_row5_col2\" class=\"data row5 col2\" >Mean (sd) : 15.6 (2.8)<br>min < med < max:<br>8.0 < 15.5 < 24.8<br>IQR (CV) : 3.3 (5.6)</td>\n      <td id=\"T_8a9ef_row5_col3\" class=\"data row5 col3\" >95 distinct values</td>\n      <td id=\"T_8a9ef_row5_col4\" class=\"data row5 col4\" ><img src = \"data:image/png;base64, iVBORw0KGgoAAAANSUhEUgAAAKoAAABGCAYAAABc8A97AAAAOnRFWHRTb2Z0d2FyZQBNYXRwbG90bGliIHZlcnNpb24zLjEwLjAsIGh0dHBzOi8vbWF0cGxvdGxpYi5vcmcvlHJYcgAAAAlwSFlzAAAPYQAAD2EBqD+naQAAAo9JREFUeJzt3E1u2lAARWG/4kQulowQFczYQKUOGLKILrZLKBIrYAfMkCwEwg2yMa7cUQeE4L/w7vP5xnmJB0dgg3JNURQeYLsvz74A4BH+Qz/VQ8aYr57nvdY8nhZF8dbyJfUaob4T6WQy+RlF0bjO+ePxuDfG/CLW9hDqba9lpMvl8m00Gp2rHDwcDsF6vR7HcVy+GhNqSwj1jjLS6XT6p8bR8rYBLeJhChKcfUVt+DAUXa/Xl5YvCQ04GWrTh6Esy4I8z7+fz+ffnufVeetHy5wMtcnDUGm73Y43m83wcrkMurk8VOVqqI0ehvb7PQ9DlnE61GfJ87y8v42MMXWO82XBDYTasiRJXrIs+zGfzweDwaDybQdfFtxGqC1L09QPgmC4WCzOs9lsX+UsXxa8j1A7EoYhXxa0iA/8IYFQIYFQIYFQIYFQIYFQIYFQIYFQIYFQIYFQIYFQIYFQIYFQIYFQIYFQIYFQIYFQIYFQIcF3dO2EpRPH+C6unbB04h7fxbUTlk7cY3OotddOlJdOGo5XODtgYX2ofdJ0vMLlAQtCdWS8wvUBC0J1a7yiJHvbcw+fo0ICoUICoUICoUICoUICoUICoUICoUICoUICoUICoUICoUICoUICoUICoUICoUICoUICoUKCb+mARIkRCXQfapMBiRIjEvisV9TaAxIlRiSesguQ2vpv1r6NAxLqIxKquwBHizcB+Hdph6QNdgFs3wQgVAeF9XcBrH0XI1RI7F59GCobpf2QWL57dTdUNkr7I21h92q1Wk3jOP5mjDnWuYR7gX/0ispGac+ENe9vu/7E4aF71L5tlMK+Txz8R3+RV9HpdPp3JkmSYLfbDT/zvOrfVr1u77/zXfkLEqeu1LXAVJkAAAAASUVORK5CYII=\"></img></td>\n      <td id=\"T_8a9ef_row5_col5\" class=\"data row5 col5\" >0<br>(0.0%)</td>\n    </tr>\n    <tr>\n      <td id=\"T_8a9ef_row6_col0\" class=\"data row6 col0\" >7</td>\n      <td id=\"T_8a9ef_row6_col1\" class=\"data row6 col1\" ><strong>model_year</strong><br>[int64]</td>\n      <td id=\"T_8a9ef_row6_col2\" class=\"data row6 col2\" >Mean (sd) : 76.0 (3.7)<br>min < med < max:<br>70.0 < 76.0 < 82.0<br>IQR (CV) : 6.0 (20.6)</td>\n      <td id=\"T_8a9ef_row6_col3\" class=\"data row6 col3\" >13 distinct values</td>\n      <td id=\"T_8a9ef_row6_col4\" class=\"data row6 col4\" ><img src = \"data:image/png;base64, iVBORw0KGgoAAAANSUhEUgAAAKoAAABGCAYAAABc8A97AAAAOnRFWHRTb2Z0d2FyZQBNYXRwbG90bGliIHZlcnNpb24zLjEwLjAsIGh0dHBzOi8vbWF0cGxvdGxpYi5vcmcvlHJYcgAAAAlwSFlzAAAPYQAAD2EBqD+naQAAAn9JREFUeJzt3bFu2kAAh/E7A5EDyBZChY0lY6QOHnmIPmwfoQNPwNClExsSskC4QRjjymmXLg02dn1/8/3mHIHkO/t8lhOb57kBXOe1/QaAW/Rv+iqUYq19NsY8VRx+zvP8rea3JI9QG4h0Op1+CYJgUmX84XCIrbVfifVvhFq/pyLS5XL5FobhqczA/X7vr1aryW63K47GcqHaBs8khNqQItLZbPazwtDily3HNnwmIVRInEkIFRJnkg9D5QoWLvhnqFzBwhUfHVEf9goWbrlpjfpoV7BwD7dQIYFQIYFQIYFQIYFQIYFQIYFQIYFQIYFQIYFQIYFQIYFQIYFQIYFQIcHpR1F4ugDOh8rTBZAIlacLoBLqO54ugESojybLsoExJrDWVn2JcxeXO4TqkCRJBmmafl4sFr1er1dqudP1tTmhOuR8Pvd93x9GUXSaz+dx2fH7Dq/NCdVBo9Go6rq8s2tzNvwhgVAhgVAhgTVq/bdvg+v1WmwxoUaEWvPt2zRN/SzLXk+n0zdjTNULorb2YT1jzLXit250gvYd/qG1eWSqfPt2s9lM1uv18HK59IzQPmyWZYMkSV7G4/EPz/NS1yZo39XN63s/eB2TJAzDuOw2URzHz4r7sJvfE+xTFEXfq+zhNj1B+65uXt/zwdueJIr7sPGfCVZ1D7fpCdr4GrWND97mJEEzOn0x5erRAeWxjwoJhAoJhAoJhAoJhAoJhAoJhAoJhAoJhAoJhAoJhAoJhAoJhAoJhAoJhAoJhAoJhAoJhAoJhAoJhAoJhAoJhAoJhAoJhAoJhIru/KWU4p8YlH3h4/H4PiZJEn+73Q7/53jV7636vs2d42/p6xeFGanLDdVwBgAAAABJRU5ErkJggg==\"></img></td>\n      <td id=\"T_8a9ef_row6_col5\" class=\"data row6 col5\" >0<br>(0.0%)</td>\n    </tr>\n    <tr>\n      <td id=\"T_8a9ef_row7_col0\" class=\"data row7 col0\" >8</td>\n      <td id=\"T_8a9ef_row7_col1\" class=\"data row7 col1\" ><strong>origin</strong><br>[object]</td>\n      <td id=\"T_8a9ef_row7_col2\" class=\"data row7 col2\" >1. usa<br>2. japan<br>3. europe</td>\n      <td id=\"T_8a9ef_row7_col3\" class=\"data row7 col3\" >249 (62.6%)<br>79 (19.8%)<br>70 (17.6%)</td>\n      <td id=\"T_8a9ef_row7_col4\" class=\"data row7 col4\" ><img src = \"data:image/png;base64, iVBORw0KGgoAAAANSUhEUgAAAJsAAABFCAYAAABdVZTTAAAAOnRFWHRTb2Z0d2FyZQBNYXRwbG90bGliIHZlcnNpb24zLjEwLjAsIGh0dHBzOi8vbWF0cGxvdGxpYi5vcmcvlHJYcgAAAAlwSFlzAAAPYQAAD2EBqD+naQAAAYNJREFUeJzt20FqwlAYhdGXIqVOlCK4GBfRxXYR7kbEDNriJOXRSVdwE95/zsCpQT4NkXenZVkaJLxE3gVaa1Nrbd9ae137Qop7Lsvy3Qa3O51OH4fD4X3tC6lsnuf7NE2fowe366FdLpfv4/H4s/bFVPR4PN6u1+v77Xbrd5exY+svPbTz+fy19sUUtm8FeEAgRmzEiI0YsREjNmLERozYiBEbMWIjRmzEiI0YsREjNmLERvaIUT9TlXtL/qv02e/6KdF+eK/Kmaotmuf53o+Gt8HZIGzDc/Qj4d1kykeVX7YS32g2sK6qsipi5XVVpVUR21hXeQIuxJ+6xIiNGLERIzZixEaM2IgRGzFiI0ZsxIiNGLERIzZixEaM2Bh/XVVpVcQG1lVVVkX8sUEgxrqKGA8IDHsbddssLDrlM92rLTblM90jPeUz3SvMAwIxYiNGbMSIjRixESM2YsRGjNiIERsxYiNGbMSIjRixESM2xpvyme4RnfKZ7tVmg0CMKR8t5RdKvKNK83hQwwAAAABJRU5ErkJggg==\"></img></td>\n      <td id=\"T_8a9ef_row7_col5\" class=\"data row7 col5\" >0<br>(0.0%)</td>\n    </tr>\n    <tr>\n      <td id=\"T_8a9ef_row8_col0\" class=\"data row8 col0\" >9</td>\n      <td id=\"T_8a9ef_row8_col1\" class=\"data row8 col1\" ><strong>name</strong><br>[object]</td>\n      <td id=\"T_8a9ef_row8_col2\" class=\"data row8 col2\" >1. ford pinto<br>2. ford maverick<br>3. amc matador<br>4. toyota corolla<br>5. amc hornet<br>6. peugeot 504<br>7. toyota corona<br>8. amc gremlin<br>9. chevrolet chevette<br>10. chevrolet impala<br>11. other</td>\n      <td id=\"T_8a9ef_row8_col3\" class=\"data row8 col3\" >6 (1.5%)<br>5 (1.3%)<br>5 (1.3%)<br>5 (1.3%)<br>4 (1.0%)<br>4 (1.0%)<br>4 (1.0%)<br>4 (1.0%)<br>4 (1.0%)<br>4 (1.0%)<br>353 (88.7%)</td>\n      <td id=\"T_8a9ef_row8_col4\" class=\"data row8 col4\" ><img src = \"data:image/png;base64, iVBORw0KGgoAAAANSUhEUgAAAJsAAAD+CAYAAAAtWHdlAAAAOnRFWHRTb2Z0d2FyZQBNYXRwbG90bGliIHZlcnNpb24zLjEwLjAsIGh0dHBzOi8vbWF0cGxvdGxpYi5vcmcvlHJYcgAAAAlwSFlzAAAPYQAAD2EBqD+naQAAA5JJREFUeJzt3EFuEmEAhuGfhqhsIA1Jj8EBOISH9RAcgHsQUxaibjCTVF256vA20udZtDtg8WboTP6vi+v1OqDwkLwLiI2S2MiIjYzYyIiNjNjIiI2M2MgsxhirMcaHMcbP6/V66d6a92a53W4/r9frx/P5/HWxWHwRHLfyMIW22+3G9PvlCge3+5tttVr9uM3Lw19uEMiIjYzYyIiNjNjIiI2M2MiIjYzYyIiNjNjIiI2M2MiIjTa2y+XysXtL3quH6YTu8Xgc0+/paPhbfyDulw0CmYV/mUXFlY2MdRUZ6yoy1lVkPNQlIzYyYiMjNjJiIyM2MmIjIzYyYiMjNjJiIyM2MmIjY/BCxuCFjGPhZAxeyLiykTF4IWPwQsbghYyHumTERkZsZMRGRmxkxEZGbGTERkZsZMRGRmxkxEZGbGQMXsgYvJBxLJyMwQsZNwhkfI2Ssa4iY11FxrqKjBsEMmIjIzYyYiMjNjJiIyM2MmIjIzYyYiMjNjJiIyM2MtZVZKyryDgWTsa6iowrGxmDFzIGL2QMXsh4qEtGbGTERkZsZMRGRmxkxEZGbGTERkZsZMRGRmxkxEbG4IWMwQsZx8LJGLyQcWUjY/BCxuCFjMELGQ91yYiNjNjIiI2M2MiIjYzYyIiNjNjIiI2M2MiIjYzYyIiNjHUVGesqMjYIZKyryLiykbGuImNdRca6ioyHumTERkZsZMRGRmxkxEZGbGTERkZsZMRGRmxkxEZGbGQMXsgYvJBxLJyMwQsZVzYyBi9kDF7IGLyQ8VCXjNjIiI2M2MiIjYzYyIiNjNjIiI2M2MiIjYzYyIiNjMELGYMXMo6FkzF4IeMGgYyvUTLWVWSsq8hYV5Fxg0BGbGTERkZsZMRGRmxkxEZGbGTERkZsZMRGRmxkxEbGuoqMdRUZx8LJWFeRcWUjY/BCxuCFjMELGQ91yYiNjNjIiI2M2MiIjYzYyIiNjNjIiI2M2MiIjYzYyBi8kDF4IeNYOBmDF97kygb/Msu33p/By2tfiPt1nmkMtZxC2+/3l81m832+j8e9eH5+/nQ4HB5Pp9P07fe62KYfU2hPT0/fZvuE3JvVHC/ioS4ZsZERGxmxkREbGbGRERsZsZERGxmxkREbGbGRERuZ5e9jJN1b8j+Zs43ldDBuOq801zES7s95pjGUY+Fkx8INXsi4QSAjNjJiIyM2MmIjIzYyYiMjNjJiY1R+ARfkt8VqrxCzAAAAAElFTkSuQmCC\"></img></td>\n      <td id=\"T_8a9ef_row8_col5\" class=\"data row8 col5\" >0<br>(0.0%)</td>\n    </tr>\n  </tbody>\n</table>\n"
     },
     "execution_count": 2,
     "metadata": {},
     "output_type": "execute_result"
    }
   ],
   "source": [
    "from summarytools import dfSummary\n",
    "dfSummary(mpg)"
   ],
   "metadata": {
    "collapsed": false,
    "ExecuteTime": {
     "end_time": "2025-02-25T00:59:32.838635200Z",
     "start_time": "2025-02-25T00:59:19.606810900Z"
    }
   },
   "id": "d2804df80f09ccfe",
   "execution_count": 2
  }
 ],
 "metadata": {
  "kernelspec": {
   "display_name": "Python 3",
   "language": "python",
   "name": "python3"
  },
  "language_info": {
   "codemirror_mode": {
    "name": "ipython",
    "version": 2
   },
   "file_extension": ".py",
   "mimetype": "text/x-python",
   "name": "python",
   "nbconvert_exporter": "python",
   "pygments_lexer": "ipython2",
   "version": "2.7.6"
  }
 },
 "nbformat": 4,
 "nbformat_minor": 5
}
